{
 "cells": [
  {
   "cell_type": "markdown",
   "metadata": {},
   "source": [
    "# Data Challege: Software Price  \n",
    "## Mihye Choi, Insight Data Science Fellow \n",
    "## July, 2nd, 2020\n",
    "\n"
   ]
  },
  {
   "cell_type": "markdown",
   "metadata": {},
   "source": [
    "# Executive Summary\n",
    "\n",
    "The goal of this project is to evaluate whether a test in increasing a price is successful or not. Based on the conversion data, the following conclusion can be drawn. \n",
    "\n",
    "1. The company should sell its software for high price (59.00) than low price(39.00). Price increase is a major success. The increased price (59.00) brought around 20% more revenue compared to the original price. \n",
    "2. The following actions may help improve customer conversion.\n",
    "    - Source: maximize friend referral source channel. Brainstorm ideas on improving converstion rate for direct traffic and goole/fb ads.\n",
    "    - Device: Not impactful\n",
    "    - Operative system: Get more traffic from Apple OS or increase spend for Apple conversions. \n",
    "    - City: focus on NYC traffic if cost of ads/seo make sense. If the company needs to focus on other locations, Houston, Chicago, LA are good next options. Unconvetional options to consider include San Antonio, Jacksonville, and OKC.\n",
    "\n",
    "\n",
    "BONUS: I additionally created Logistic Regression model to predict customer's conversion at the last part of this challenge"
   ]
  },
  {
   "cell_type": "markdown",
   "metadata": {},
   "source": [
    "# Backgroud\n",
    "\n",
    "Optimizing price is important for company revenue and future growth. Using data from the pricing test (39 USD vs. 59 USD), I examine which of the price would bring more revenue to company XYZ. Also, I exmaine patterns in the data and built a model to predict customer conversion to provide a holistic view into user behavior, especially focusing on actionable insights that might increase conversion rate. Both the exploratory data analysis and a predictive model will provide useful recommendations for changes that the product and marketing team can make to improve conversion rates."
   ]
  },
  {
   "cell_type": "code",
   "execution_count": 1,
   "metadata": {
    "scrolled": true
   },
   "outputs": [],
   "source": [
    "import pandas as pd\n",
    "import numpy as np\n",
    "import matplotlib.pyplot as plt\n",
    "import seaborn as sns\n",
    "import sklearn\n",
    "import scipy\n",
    "import statsmodels.api as sm"
   ]
  },
  {
   "cell_type": "markdown",
   "metadata": {},
   "source": [
    "# Data Overview and Cleaning:\n",
    "\n",
    "Below is a sample of the data showing the features including user ID (the Id of the user), timestamp (the date and time when the user hit for the first time company XYZ's webpage), source (from ads-[\"google\", \"facebook\", \"bing\", \"yahoo\", \"other\"], from seo - [\"google\", \"facebook\", \"bing\", \"yahoo\", \"other\"], or from friend_referral-user coming from a referral link of another user, direct_traffic-user coming by directly typing the address of the site on the browser), device (user device, mobile or web), user operative_system (\"windows\", \"mac\" for web, and \"android\", \"iOS\" for mobile), test condition (1 -> higher price, 0 -> lower price), price (39 vs. 59), city (user location), and conversion (whether the user converted or not). \n",
    "\n",
    "First, the two different data files were merged based on user ID and initial exploratory data analysis was implemented. The initial exploratory data analysis showed that there were typos in operative system (e.g.,wnddows to window) and errors in price (e.g., other values rather than 39 or 59). The typos are corrected but errors and missing data were removed from the dataset."
   ]
  },
  {
   "cell_type": "markdown",
   "metadata": {},
   "source": [
    "#### Data Overview "
   ]
  },
  {
   "cell_type": "code",
   "execution_count": 2,
   "metadata": {
    "scrolled": false
   },
   "outputs": [
    {
     "name": "stdout",
     "output_type": "stream",
     "text": [
      "   user_id            timestamp          source  device operative_system  \\\n",
      "0   604839  2015-05-08 03:38:34    ads_facebook  mobile              iOS   \n",
      "1   624057  2015-05-10 21:08:46      seo-google  mobile          android   \n",
      "2   317970  2015-04-04 15:01:23        ads-bing  mobile          android   \n",
      "3   685636  2015-05-07 07:26:01  direct_traffic  mobile              iOS   \n",
      "4   820854  2015-05-24 11:04:40    ads_facebook     web              mac   \n",
      "\n",
      "   test  price  converted          city country    lat   long  \n",
      "0     0   39.0          0       Buffalo     USA  42.89 -78.86  \n",
      "1     0   39.0          0     Lakeville     USA  44.68 -93.24  \n",
      "2     0   39.0          0         Parma     USA  41.38 -81.73  \n",
      "3     1   59.0          0  Fayetteville     USA  35.07 -78.90  \n",
      "4     0   39.0          0       Fishers     USA  39.95 -86.02  \n"
     ]
    }
   ],
   "source": [
    "test_results = pd.read_csv('test_results.txt', delimiter=',')\n",
    "user_table = pd.read_csv('user_table.txt', delimiter=',')\n",
    "# Merge the two tables into one\n",
    "all = test_results.join(user_table.set_index('user_id'), on='user_id') #inner join\n",
    "cl_all= all.drop(all.columns[[0]], axis=1)\n",
    "print(cl_all.head(5))"
   ]
  },
  {
   "cell_type": "markdown",
   "metadata": {},
   "source": [
    "#### Data Cleaning"
   ]
  },
  {
   "cell_type": "code",
   "execution_count": 3,
   "metadata": {
    "scrolled": false
   },
   "outputs": [
    {
     "name": "stdout",
     "output_type": "stream",
     "text": [
      "   user_id            timestamp          source  device operative_system  \\\n",
      "0   604839  2015-05-08 03:38:34    ads_facebook  mobile              iOS   \n",
      "1   624057  2015-05-10 21:08:46      seo-google  mobile          android   \n",
      "2   317970  2015-04-04 15:01:23        ads-bing  mobile          android   \n",
      "3   685636  2015-05-07 07:26:01  direct_traffic  mobile              iOS   \n",
      "4   820854  2015-05-24 11:04:40    ads_facebook     web              mac   \n",
      "\n",
      "   test  price  converted          city country    lat   long  \n",
      "0     0   39.0          0       Buffalo     USA  42.89 -78.86  \n",
      "1     0   39.0          0     Lakeville     USA  44.68 -93.24  \n",
      "2     0   39.0          0         Parma     USA  41.38 -81.73  \n",
      "3     1   59.0          0  Fayetteville     USA  35.07 -78.90  \n",
      "4     0   39.0          0       Fishers     USA  39.95 -86.02  \n"
     ]
    }
   ],
   "source": [
    "# Set proper price range\n",
    "cl_all = cl_all[cl_all.price < 60]\n",
    "\n",
    "# Correct typos\n",
    "cl_all = cl_all.replace('wnddows', 'windows')\n",
    "cl_all = cl_all.replace('apple', 'mac')\n",
    "cl_all = cl_all.replace('i0S', 'iOS')\n",
    "cl_all = cl_all.replace('anroid', 'android')\n",
    "# Check missing data\n",
    "cl_all = cl_all.dropna()\n",
    "#operating_check = cl_all.operative_system.value_counts()/len(cl_all)\n",
    "#source = cl_all.source.value_counts()/len(cl_all)\n",
    "\n",
    "# Match test and price values\n",
    "testprice_nomatch1 = cl_all[(cl_all['test'] == 1) & (cl_all['price']== 39)].index\n",
    "cl_all.drop(testprice_nomatch1, inplace=True)\n",
    "testprice_nomatch2 = cl_all[(cl_all['test'] == 0) & (cl_all['price']== 59)].index\n",
    "cl_all.drop(testprice_nomatch2, inplace=True)\n",
    "print(cl_all.head(5))"
   ]
  },
  {
   "cell_type": "markdown",
   "metadata": {},
   "source": [
    "# Exploratory Data Analysis"
   ]
  },
  {
   "cell_type": "code",
   "execution_count": 4,
   "metadata": {
    "scrolled": true
   },
   "outputs": [
    {
     "data": {
      "text/html": [
       "<div>\n",
       "<style scoped>\n",
       "    .dataframe tbody tr th:only-of-type {\n",
       "        vertical-align: middle;\n",
       "    }\n",
       "\n",
       "    .dataframe tbody tr th {\n",
       "        vertical-align: top;\n",
       "    }\n",
       "\n",
       "    .dataframe thead th {\n",
       "        text-align: right;\n",
       "    }\n",
       "</style>\n",
       "<table border=\"1\" class=\"dataframe\">\n",
       "  <thead>\n",
       "    <tr style=\"text-align: right;\">\n",
       "      <th></th>\n",
       "      <th>user_id</th>\n",
       "      <th>test</th>\n",
       "      <th>price</th>\n",
       "      <th>converted</th>\n",
       "      <th>lat</th>\n",
       "      <th>long</th>\n",
       "    </tr>\n",
       "  </thead>\n",
       "  <tbody>\n",
       "    <tr>\n",
       "      <th>count</th>\n",
       "      <td>254534.000000</td>\n",
       "      <td>254534.000000</td>\n",
       "      <td>254534.000000</td>\n",
       "      <td>254534.000000</td>\n",
       "      <td>254534.000000</td>\n",
       "      <td>254534.000000</td>\n",
       "    </tr>\n",
       "    <tr>\n",
       "      <th>mean</th>\n",
       "      <td>499156.826950</td>\n",
       "      <td>0.358730</td>\n",
       "      <td>46.174601</td>\n",
       "      <td>0.018701</td>\n",
       "      <td>37.107995</td>\n",
       "      <td>-93.982034</td>\n",
       "    </tr>\n",
       "    <tr>\n",
       "      <th>std</th>\n",
       "      <td>288473.070843</td>\n",
       "      <td>0.479629</td>\n",
       "      <td>9.592574</td>\n",
       "      <td>0.135467</td>\n",
       "      <td>5.210622</td>\n",
       "      <td>18.056394</td>\n",
       "    </tr>\n",
       "    <tr>\n",
       "      <th>min</th>\n",
       "      <td>3.000000</td>\n",
       "      <td>0.000000</td>\n",
       "      <td>39.000000</td>\n",
       "      <td>0.000000</td>\n",
       "      <td>19.700000</td>\n",
       "      <td>-157.800000</td>\n",
       "    </tr>\n",
       "    <tr>\n",
       "      <th>25%</th>\n",
       "      <td>249527.750000</td>\n",
       "      <td>0.000000</td>\n",
       "      <td>39.000000</td>\n",
       "      <td>0.000000</td>\n",
       "      <td>33.660000</td>\n",
       "      <td>-112.200000</td>\n",
       "    </tr>\n",
       "    <tr>\n",
       "      <th>50%</th>\n",
       "      <td>498796.500000</td>\n",
       "      <td>0.000000</td>\n",
       "      <td>39.000000</td>\n",
       "      <td>0.000000</td>\n",
       "      <td>37.720000</td>\n",
       "      <td>-88.930000</td>\n",
       "    </tr>\n",
       "    <tr>\n",
       "      <th>75%</th>\n",
       "      <td>748685.250000</td>\n",
       "      <td>1.000000</td>\n",
       "      <td>59.000000</td>\n",
       "      <td>0.000000</td>\n",
       "      <td>40.700000</td>\n",
       "      <td>-79.040000</td>\n",
       "    </tr>\n",
       "    <tr>\n",
       "      <th>max</th>\n",
       "      <td>999999.000000</td>\n",
       "      <td>1.000000</td>\n",
       "      <td>59.000000</td>\n",
       "      <td>1.000000</td>\n",
       "      <td>61.180000</td>\n",
       "      <td>30.310000</td>\n",
       "    </tr>\n",
       "  </tbody>\n",
       "</table>\n",
       "</div>"
      ],
      "text/plain": [
       "             user_id           test          price      converted  \\\n",
       "count  254534.000000  254534.000000  254534.000000  254534.000000   \n",
       "mean   499156.826950       0.358730      46.174601       0.018701   \n",
       "std    288473.070843       0.479629       9.592574       0.135467   \n",
       "min         3.000000       0.000000      39.000000       0.000000   \n",
       "25%    249527.750000       0.000000      39.000000       0.000000   \n",
       "50%    498796.500000       0.000000      39.000000       0.000000   \n",
       "75%    748685.250000       1.000000      59.000000       0.000000   \n",
       "max    999999.000000       1.000000      59.000000       1.000000   \n",
       "\n",
       "                 lat           long  \n",
       "count  254534.000000  254534.000000  \n",
       "mean       37.107995     -93.982034  \n",
       "std         5.210622      18.056394  \n",
       "min        19.700000    -157.800000  \n",
       "25%        33.660000    -112.200000  \n",
       "50%        37.720000     -88.930000  \n",
       "75%        40.700000     -79.040000  \n",
       "max        61.180000      30.310000  "
      ]
     },
     "execution_count": 4,
     "metadata": {},
     "output_type": "execute_result"
    }
   ],
   "source": [
    "pd.DataFrame.describe(cl_all) # Descriptive Analysis "
   ]
  },
  {
   "cell_type": "code",
   "execution_count": 5,
   "metadata": {
    "scrolled": true
   },
   "outputs": [
    {
     "data": {
      "text/html": [
       "<div>\n",
       "<style scoped>\n",
       "    .dataframe tbody tr th:only-of-type {\n",
       "        vertical-align: middle;\n",
       "    }\n",
       "\n",
       "    .dataframe tbody tr th {\n",
       "        vertical-align: top;\n",
       "    }\n",
       "\n",
       "    .dataframe thead th {\n",
       "        text-align: right;\n",
       "    }\n",
       "</style>\n",
       "<table border=\"1\" class=\"dataframe\">\n",
       "  <thead>\n",
       "    <tr style=\"text-align: right;\">\n",
       "      <th></th>\n",
       "      <th>user_id</th>\n",
       "      <th>test</th>\n",
       "      <th>price</th>\n",
       "      <th>lat</th>\n",
       "      <th>long</th>\n",
       "    </tr>\n",
       "    <tr>\n",
       "      <th>converted</th>\n",
       "      <th></th>\n",
       "      <th></th>\n",
       "      <th></th>\n",
       "      <th></th>\n",
       "      <th></th>\n",
       "    </tr>\n",
       "  </thead>\n",
       "  <tbody>\n",
       "    <tr>\n",
       "      <th>0</th>\n",
       "      <td>499112.567033</td>\n",
       "      <td>0.359701</td>\n",
       "      <td>46.194023</td>\n",
       "      <td>37.110609</td>\n",
       "      <td>-93.979790</td>\n",
       "    </tr>\n",
       "    <tr>\n",
       "      <th>1</th>\n",
       "      <td>501479.301050</td>\n",
       "      <td>0.307773</td>\n",
       "      <td>45.155462</td>\n",
       "      <td>36.970849</td>\n",
       "      <td>-94.099809</td>\n",
       "    </tr>\n",
       "  </tbody>\n",
       "</table>\n",
       "</div>"
      ],
      "text/plain": [
       "                 user_id      test      price        lat       long\n",
       "converted                                                          \n",
       "0          499112.567033  0.359701  46.194023  37.110609 -93.979790\n",
       "1          501479.301050  0.307773  45.155462  36.970849 -94.099809"
      ]
     },
     "execution_count": 5,
     "metadata": {},
     "output_type": "execute_result"
    }
   ],
   "source": [
    "cl_all.groupby(cl_all.converted).mean() "
   ]
  },
  {
   "cell_type": "markdown",
   "metadata": {},
   "source": [
    "#### Conversion rate with 39 vs 59 USD price options "
   ]
  },
  {
   "cell_type": "code",
   "execution_count": 6,
   "metadata": {
    "scrolled": true
   },
   "outputs": [
    {
     "data": {
      "text/plain": [
       "Text(0.5, 0, 'price')"
      ]
     },
     "execution_count": 6,
     "metadata": {},
     "output_type": "execute_result"
    },
    {
     "data": {
      "image/png": "[encoded data removed]",
      "text/plain": [
       "<Figure size 432x288 with 1 Axes>"
      ]
     },
     "metadata": {
      "needs_background": "light"
     },
     "output_type": "display_data"
    }
   ],
   "source": [
    "ax = cl_all.groupby(\"price\")[\"converted\"].mean().plot(kind=\"bar\", color = \"red\", alpha = 0.5)\n",
    "ax.tick_params(axis='x', rotation=45)\n",
    "ax.set_ylabel(\"Conversion rate\") \n",
    "ax.set_xlabel(\"price\")"
   ]
  },
  {
   "cell_type": "code",
   "execution_count": 7,
   "metadata": {
    "scrolled": true
   },
   "outputs": [
    {
     "name": "stdout",
     "output_type": "stream",
     "text": [
      "price        39.0   59.0\n",
      "converted               \n",
      "0          159930  89844\n",
      "1            3295   1465\n",
      "converted         0         1\n",
      "price                        \n",
      "39.0       0.979813  0.020187\n",
      "59.0       0.983956  0.016044\n",
      "Expected revenue per customer is with price $36 option is 0.787293\n",
      "Expected revenue per customer is with price $59 option is 0.946596\n",
      "Expected revenue growth percentage with price $59 option is 0.20234271103642476\n"
     ]
    }
   ],
   "source": [
    "print(pd.crosstab(cl_all.converted, cl_all.price)) \n",
    "print(pd.crosstab(index=cl_all.price, columns= cl_all.converted, normalize='index'))\n",
    "\n",
    "expected_rev_39 = 39 * 0.020187 # expected revenue per customer with 39$ price option (see the table below)\n",
    "expected_rev_59 = 59 * 0.016044 # expected revenue per customer with 59$ price option\n",
    "prompt1= 'Expected revenue per customer is with price $36 option is ' #78 cents\n",
    "prompt2= 'Expected revenue per customer is with price $59 option is ' #94 cents\n",
    "print(prompt1 + str(expected_rev_39))\n",
    "print(prompt2 + str(expected_rev_59))\n",
    "\n",
    "growth = (expected_rev_59-expected_rev_39)/expected_rev_39 # revenue growth between low and high\n",
    "prompt3= 'Expected revenue growth percentage with price $59 option is '\n",
    "print(prompt3 + str(growth))"
   ]
  },
  {
   "cell_type": "markdown",
   "metadata": {},
   "source": [
    "I looked how the product price affected coversion first. Between the two prices that were compared, 39 and 59, there are more visitors who have been exposed to the original price (39 USD) than the new price and higher conversion rate in the 39 price option. But it is important to think the conversion rate in relation to its expected revenue. Thus, I calculated expected revenue per customer and compared it between the 39 USD and 59 USD price groups. \n",
    "\n",
    "The new price group (59.00) resulted in 25 percent less conversion but, due to the ~50 percent increase in price, comes out to revenue increase of ~20 percent. This result showed that even though higher prices decreases conversion,  the new price of $59 seems to be better option than the current price for company XYZ because it will create more revenue. "
   ]
  },
  {
   "cell_type": "markdown",
   "metadata": {},
   "source": [
    "#### Check other factors that can affect customer conversion"
   ]
  },
  {
   "cell_type": "code",
   "execution_count": 8,
   "metadata": {
    "scrolled": true
   },
   "outputs": [
    {
     "name": "stdout",
     "output_type": "stream",
     "text": [
      "direct_traffic     0.191043\n",
      "ads-google         0.187511\n",
      "ads_facebook       0.168088\n",
      "ads_other          0.094455\n",
      "seo-google         0.072835\n",
      "ads-bing           0.071951\n",
      "seo_facebook       0.066789\n",
      "friend_referral    0.065469\n",
      "seo-other          0.029336\n",
      "ads-yahoo          0.023961\n",
      "seo-yahoo          0.021695\n",
      "seo-bing           0.006867\n",
      "Name: source, dtype: float64\n"
     ]
    },
    {
     "data": {
      "text/plain": [
       "Text(0.5, 0, 'Source')"
      ]
     },
     "execution_count": 8,
     "metadata": {},
     "output_type": "execute_result"
    },
    {
     "data": {
      "image/png": "[encoded data removed]",
      "text/plain": [
       "<Figure size 432x288 with 1 Axes>"
      ]
     },
     "metadata": {
      "needs_background": "light"
     },
     "output_type": "display_data"
    }
   ],
   "source": [
    "# Check Sources \n",
    "print(cl_all.source.value_counts()/len(cl_all))\n",
    "#cl_all.groupby(cl_all.source).mean()\n",
    "ax = cl_all.groupby(\"source\")[\"converted\"].mean().plot(kind=\"bar\", color = \"red\", alpha = 0.5)\n",
    "ax.tick_params(axis='x', rotation=45)\n",
    "ax.set_ylabel(\"Conversion rate\") \n",
    "ax.set_xlabel(\"Source\")"
   ]
  },
  {
   "cell_type": "markdown",
   "metadata": {},
   "source": [
    "Direct traffic, ads from gogole, facebooks are effective while channels from yahoo, bing are not effective to attract more visitors to the website. In terms of conversion rate, sources are generally comparable except for friend referral which is superior. "
   ]
  },
  {
   "cell_type": "code",
   "execution_count": 9,
   "metadata": {
    "scrolled": true
   },
   "outputs": [
    {
     "name": "stdout",
     "output_type": "stream",
     "text": [
      "mobile    0.575188\n",
      "web       0.424812\n",
      "Name: device, dtype: float64\n"
     ]
    },
    {
     "data": {
      "text/plain": [
       "Text(0.5, 0, 'device')"
      ]
     },
     "execution_count": 9,
     "metadata": {},
     "output_type": "execute_result"
    },
    {
     "data": {
      "image/png": "[encoded data removed]",
      "text/plain": [
       "<Figure size 432x288 with 1 Axes>"
      ]
     },
     "metadata": {
      "needs_background": "light"
     },
     "output_type": "display_data"
    }
   ],
   "source": [
    "print(cl_all.device.value_counts()/len(cl_all))\n",
    "cl_all.groupby(cl_all.device).mean()\n",
    "ax = cl_all.groupby(\"device\")[\"converted\"].mean().plot(kind=\"bar\", color = \"red\", alpha = 0.5)\n",
    "ax.tick_params(axis='x', rotation=45)\n",
    "ax.set_ylabel(\"Conversion rate\") \n",
    "ax.set_xlabel(\"device\")\n"
   ]
  },
  {
   "cell_type": "markdown",
   "metadata": {},
   "source": [
    "There are more visitors viewing the website through thier mobile device, but the types of device do not have an imact on conversion rate "
   ]
  },
  {
   "cell_type": "code",
   "execution_count": 10,
   "metadata": {
    "scrolled": true
   },
   "outputs": [
    {
     "name": "stdout",
     "output_type": "stream",
     "text": [
      "windows    0.340151\n",
      "iOS        0.321768\n",
      "android    0.253420\n",
      "mac        0.084661\n",
      "Name: operative_system, dtype: float64\n"
     ]
    },
    {
     "data": {
      "text/plain": [
       "Text(0.5, 0, 'Operative_system')"
      ]
     },
     "execution_count": 10,
     "metadata": {},
     "output_type": "execute_result"
    },
    {
     "data": {
      "image/png": "[encoded data removed]",
      "text/plain": [
       "<Figure size 432x288 with 1 Axes>"
      ]
     },
     "metadata": {
      "needs_background": "light"
     },
     "output_type": "display_data"
    }
   ],
   "source": [
    "print(cl_all.operative_system.value_counts()/len(cl_all))\n",
    "ax = cl_all.groupby(\"operative_system\")[\"converted\"].mean().plot(kind=\"bar\", color = \"red\", alpha = 0.5)\n",
    "ax.tick_params(axis='x', rotation=45)\n",
    "ax.set_ylabel(\"Conversion rate\") \n",
    "ax.set_xlabel(\"Operative_system\")"
   ]
  },
  {
   "cell_type": "markdown",
   "metadata": {},
   "source": [
    "Here, apple users have a distinct advantage in conversion rate but most of the apple traffic is coming through the iOS. "
   ]
  },
  {
   "cell_type": "code",
   "execution_count": 11,
   "metadata": {
    "scrolled": true
   },
   "outputs": [
    {
     "name": "stdout",
     "output_type": "stream",
     "text": [
      "New York         0.001650\n",
      "Houston          0.000444\n",
      "Chicago          0.000365\n",
      "San Antonio      0.000310\n",
      "Los Angeles      0.000303\n",
      "Austin           0.000240\n",
      "San Jose         0.000216\n",
      "Philadelphia     0.000181\n",
      "Indianapolis     0.000169\n",
      "Jacksonville     0.000165\n",
      "Las Vegas        0.000157\n",
      "Seattle          0.000145\n",
      "Oklahoma City    0.000138\n",
      "Oakland          0.000130\n",
      "Charlotte        0.000126\n",
      "Memphis          0.000122\n",
      "Tucson           0.000118\n",
      "Mesa             0.000110\n",
      "Nashville        0.000110\n",
      "Minneapolis      0.000106\n",
      "dtype: float64\n"
     ]
    },
    {
     "data": {
      "text/plain": [
       "Text(0.5, 0, 'high revenue city')"
      ]
     },
     "execution_count": 11,
     "metadata": {},
     "output_type": "execute_result"
    },
    {
     "data": {
      "image/png": "[encoded data removed]",
      "text/plain": [
       "<Figure size 432x288 with 1 Axes>"
      ]
     },
     "metadata": {
      "needs_background": "light"
     },
     "output_type": "display_data"
    }
   ],
   "source": [
    "most_visited = cl_all.city.value_counts()/len(cl_all)\n",
    "#print(most_visited.head(20))\n",
    "con_cities = cl_all.groupby(\"city\")[\"converted\"].mean() # conversion rate in each city\n",
    "#bucket cities in 4 - high visit/high conv, high visit/low conv, low visit/high conv, low visit/low conv\n",
    "rev_cities = most_visited * con_cities # focus high/high\n",
    "top20_rev = rev_cities.sort_values(ascending=False).head(20)\n",
    "print(top20_rev)\n",
    "\n",
    "#top20=high_con_cities.sort_values(ascending=False).head(20) \n",
    "#print(top20)\n",
    "ax = top20_rev.plot(kind=\"bar\", color = \"red\", alpha = 0.3)\n",
    "ax.tick_params(axis='x', rotation=40)\n",
    "ax.set_ylabel(\"Expected rev\") \n",
    "ax.set_xlabel(\"high revenue city\")"
   ]
  },
  {
   "cell_type": "markdown",
   "metadata": {},
   "source": [
    "There are nearly a thousand of cities in the dataset. So I focused on those that have significant revenue impact which I created a proxy for, which I defined as the proportion of total visits attributed to each city * conversion rate for each city. With this metric, we can see NYC as the highest impact city by far. "
   ]
  },
  {
   "cell_type": "code",
   "execution_count": 12,
   "metadata": {
    "scrolled": false
   },
   "outputs": [
    {
     "data": {
      "text/html": [
       "<div>\n",
       "<style scoped>\n",
       "    .dataframe tbody tr th:only-of-type {\n",
       "        vertical-align: middle;\n",
       "    }\n",
       "\n",
       "    .dataframe tbody tr th {\n",
       "        vertical-align: top;\n",
       "    }\n",
       "\n",
       "    .dataframe thead th {\n",
       "        text-align: right;\n",
       "    }\n",
       "</style>\n",
       "<table border=\"1\" class=\"dataframe\">\n",
       "  <thead>\n",
       "    <tr style=\"text-align: right;\">\n",
       "      <th>source</th>\n",
       "      <th>ads-bing</th>\n",
       "      <th>ads-google</th>\n",
       "      <th>ads-yahoo</th>\n",
       "      <th>ads_facebook</th>\n",
       "      <th>ads_other</th>\n",
       "      <th>direct_traffic</th>\n",
       "      <th>friend_referral</th>\n",
       "      <th>seo-bing</th>\n",
       "      <th>seo-google</th>\n",
       "      <th>seo-other</th>\n",
       "      <th>seo-yahoo</th>\n",
       "      <th>seo_facebook</th>\n",
       "    </tr>\n",
       "    <tr>\n",
       "      <th>converted</th>\n",
       "      <th></th>\n",
       "      <th></th>\n",
       "      <th></th>\n",
       "      <th></th>\n",
       "      <th></th>\n",
       "      <th></th>\n",
       "      <th></th>\n",
       "      <th></th>\n",
       "      <th></th>\n",
       "      <th></th>\n",
       "      <th></th>\n",
       "      <th></th>\n",
       "    </tr>\n",
       "  </thead>\n",
       "  <tbody>\n",
       "    <tr>\n",
       "      <th>0</th>\n",
       "      <td>0.072405</td>\n",
       "      <td>0.186905</td>\n",
       "      <td>0.024054</td>\n",
       "      <td>0.167535</td>\n",
       "      <td>0.094842</td>\n",
       "      <td>0.192254</td>\n",
       "      <td>0.064134</td>\n",
       "      <td>0.006842</td>\n",
       "      <td>0.072950</td>\n",
       "      <td>0.029403</td>\n",
       "      <td>0.021732</td>\n",
       "      <td>0.066945</td>\n",
       "    </tr>\n",
       "    <tr>\n",
       "      <th>1</th>\n",
       "      <td>0.048109</td>\n",
       "      <td>0.219328</td>\n",
       "      <td>0.019118</td>\n",
       "      <td>0.197059</td>\n",
       "      <td>0.074160</td>\n",
       "      <td>0.127521</td>\n",
       "      <td>0.135504</td>\n",
       "      <td>0.008193</td>\n",
       "      <td>0.066807</td>\n",
       "      <td>0.025840</td>\n",
       "      <td>0.019748</td>\n",
       "      <td>0.058613</td>\n",
       "    </tr>\n",
       "  </tbody>\n",
       "</table>\n",
       "</div>"
      ],
      "text/plain": [
       "source     ads-bing  ads-google  ads-yahoo  ads_facebook  ads_other  \\\n",
       "converted                                                             \n",
       "0          0.072405    0.186905   0.024054      0.167535   0.094842   \n",
       "1          0.048109    0.219328   0.019118      0.197059   0.074160   \n",
       "\n",
       "source     direct_traffic  friend_referral  seo-bing  seo-google  seo-other  \\\n",
       "converted                                                                     \n",
       "0                0.192254         0.064134  0.006842    0.072950   0.029403   \n",
       "1                0.127521         0.135504  0.008193    0.066807   0.025840   \n",
       "\n",
       "source     seo-yahoo  seo_facebook  \n",
       "converted                           \n",
       "0           0.021732      0.066945  \n",
       "1           0.019748      0.058613  "
      ]
     },
     "execution_count": 12,
     "metadata": {},
     "output_type": "execute_result"
    }
   ],
   "source": [
    "pd.crosstab(index= cl_all.converted, columns= cl_all.source, normalize='index' ) "
   ]
  },
  {
   "cell_type": "code",
   "execution_count": 13,
   "metadata": {
    "scrolled": true
   },
   "outputs": [
    {
     "data": {
      "text/html": [
       "<div>\n",
       "<style scoped>\n",
       "    .dataframe tbody tr th:only-of-type {\n",
       "        vertical-align: middle;\n",
       "    }\n",
       "\n",
       "    .dataframe tbody tr th {\n",
       "        vertical-align: top;\n",
       "    }\n",
       "\n",
       "    .dataframe thead th {\n",
       "        text-align: right;\n",
       "    }\n",
       "</style>\n",
       "<table border=\"1\" class=\"dataframe\">\n",
       "  <thead>\n",
       "    <tr style=\"text-align: right;\">\n",
       "      <th>device</th>\n",
       "      <th>mobile</th>\n",
       "      <th>web</th>\n",
       "    </tr>\n",
       "    <tr>\n",
       "      <th>converted</th>\n",
       "      <th></th>\n",
       "      <th></th>\n",
       "    </tr>\n",
       "  </thead>\n",
       "  <tbody>\n",
       "    <tr>\n",
       "      <th>0</th>\n",
       "      <td>0.575012</td>\n",
       "      <td>0.424988</td>\n",
       "    </tr>\n",
       "    <tr>\n",
       "      <th>1</th>\n",
       "      <td>0.584454</td>\n",
       "      <td>0.415546</td>\n",
       "    </tr>\n",
       "  </tbody>\n",
       "</table>\n",
       "</div>"
      ],
      "text/plain": [
       "device       mobile       web\n",
       "converted                    \n",
       "0          0.575012  0.424988\n",
       "1          0.584454  0.415546"
      ]
     },
     "execution_count": 13,
     "metadata": {},
     "output_type": "execute_result"
    }
   ],
   "source": [
    "pd.crosstab(index= cl_all.converted, columns= cl_all.device, normalize='index') "
   ]
  },
  {
   "cell_type": "code",
   "execution_count": 14,
   "metadata": {
    "scrolled": true
   },
   "outputs": [
    {
     "data": {
      "text/html": [
       "<div>\n",
       "<style scoped>\n",
       "    .dataframe tbody tr th:only-of-type {\n",
       "        vertical-align: middle;\n",
       "    }\n",
       "\n",
       "    .dataframe tbody tr th {\n",
       "        vertical-align: top;\n",
       "    }\n",
       "\n",
       "    .dataframe thead th {\n",
       "        text-align: right;\n",
       "    }\n",
       "</style>\n",
       "<table border=\"1\" class=\"dataframe\">\n",
       "  <thead>\n",
       "    <tr style=\"text-align: right;\">\n",
       "      <th>operative_system</th>\n",
       "      <th>android</th>\n",
       "      <th>iOS</th>\n",
       "      <th>mac</th>\n",
       "      <th>windows</th>\n",
       "    </tr>\n",
       "    <tr>\n",
       "      <th>converted</th>\n",
       "      <th></th>\n",
       "      <th></th>\n",
       "      <th></th>\n",
       "      <th></th>\n",
       "    </tr>\n",
       "  </thead>\n",
       "  <tbody>\n",
       "    <tr>\n",
       "      <th>0</th>\n",
       "      <td>0.254414</td>\n",
       "      <td>0.320598</td>\n",
       "      <td>0.084188</td>\n",
       "      <td>0.340800</td>\n",
       "    </tr>\n",
       "    <tr>\n",
       "      <th>1</th>\n",
       "      <td>0.201261</td>\n",
       "      <td>0.383193</td>\n",
       "      <td>0.109454</td>\n",
       "      <td>0.306092</td>\n",
       "    </tr>\n",
       "  </tbody>\n",
       "</table>\n",
       "</div>"
      ],
      "text/plain": [
       "operative_system   android       iOS       mac   windows\n",
       "converted                                               \n",
       "0                 0.254414  0.320598  0.084188  0.340800\n",
       "1                 0.201261  0.383193  0.109454  0.306092"
      ]
     },
     "execution_count": 14,
     "metadata": {},
     "output_type": "execute_result"
    }
   ],
   "source": [
    "pd.crosstab(index= cl_all.converted, columns= cl_all.operative_system, normalize='index') "
   ]
  },
  {
   "cell_type": "markdown",
   "metadata": {},
   "source": [
    "## Takeaways from the EDA:\n",
    "### Converted customer on average are more likely to:\n",
    "    1. Receive friend referral.\n",
    "    2. Use mobile or web similarly. \n",
    "    3. Have Apple device (mac < iOS)\n",
    "    4. Live in NYC. "
   ]
  },
  {
   "cell_type": "markdown",
   "metadata": {},
   "source": [
    "### Conversion Model with Logistic Regression"
   ]
  },
  {
   "cell_type": "markdown",
   "metadata": {},
   "source": [
    "I created a logistic regression to predict customer conversion (which is a separate question from what I tried to see in the first section). This is a simple model that uses a logistic function to model a binary dependent variable, for example, converted (1) or not (0). The followings provide each step for the modeling. "
   ]
  },
  {
   "cell_type": "code",
   "execution_count": 15,
   "metadata": {
    "scrolled": true
   },
   "outputs": [
    {
     "data": {
      "text/html": [
       "<div>\n",
       "<style scoped>\n",
       "    .dataframe tbody tr th:only-of-type {\n",
       "        vertical-align: middle;\n",
       "    }\n",
       "\n",
       "    .dataframe tbody tr th {\n",
       "        vertical-align: top;\n",
       "    }\n",
       "\n",
       "    .dataframe thead th {\n",
       "        text-align: right;\n",
       "    }\n",
       "</style>\n",
       "<table border=\"1\" class=\"dataframe\">\n",
       "  <thead>\n",
       "    <tr style=\"text-align: right;\">\n",
       "      <th></th>\n",
       "      <th>newcity</th>\n",
       "      <th>converted</th>\n",
       "      <th>source_ads-bing</th>\n",
       "      <th>source_ads-google</th>\n",
       "      <th>source_ads-yahoo</th>\n",
       "      <th>source_ads_facebook</th>\n",
       "      <th>source_ads_other</th>\n",
       "      <th>source_direct_traffic</th>\n",
       "      <th>source_friend_referral</th>\n",
       "      <th>source_seo-bing</th>\n",
       "      <th>...</th>\n",
       "      <th>source_seo-yahoo</th>\n",
       "      <th>source_seo_facebook</th>\n",
       "      <th>device_mobile</th>\n",
       "      <th>device_web</th>\n",
       "      <th>operative_system_android</th>\n",
       "      <th>operative_system_iOS</th>\n",
       "      <th>operative_system_mac</th>\n",
       "      <th>operative_system_windows</th>\n",
       "      <th>price_39.0</th>\n",
       "      <th>price_59.0</th>\n",
       "    </tr>\n",
       "  </thead>\n",
       "  <tbody>\n",
       "    <tr>\n",
       "      <th>0</th>\n",
       "      <td>0</td>\n",
       "      <td>0</td>\n",
       "      <td>0</td>\n",
       "      <td>0</td>\n",
       "      <td>0</td>\n",
       "      <td>1</td>\n",
       "      <td>0</td>\n",
       "      <td>0</td>\n",
       "      <td>0</td>\n",
       "      <td>0</td>\n",
       "      <td>...</td>\n",
       "      <td>0</td>\n",
       "      <td>0</td>\n",
       "      <td>1</td>\n",
       "      <td>0</td>\n",
       "      <td>0</td>\n",
       "      <td>1</td>\n",
       "      <td>0</td>\n",
       "      <td>0</td>\n",
       "      <td>1</td>\n",
       "      <td>0</td>\n",
       "    </tr>\n",
       "    <tr>\n",
       "      <th>1</th>\n",
       "      <td>0</td>\n",
       "      <td>0</td>\n",
       "      <td>0</td>\n",
       "      <td>0</td>\n",
       "      <td>0</td>\n",
       "      <td>0</td>\n",
       "      <td>0</td>\n",
       "      <td>0</td>\n",
       "      <td>0</td>\n",
       "      <td>0</td>\n",
       "      <td>...</td>\n",
       "      <td>0</td>\n",
       "      <td>0</td>\n",
       "      <td>1</td>\n",
       "      <td>0</td>\n",
       "      <td>1</td>\n",
       "      <td>0</td>\n",
       "      <td>0</td>\n",
       "      <td>0</td>\n",
       "      <td>1</td>\n",
       "      <td>0</td>\n",
       "    </tr>\n",
       "    <tr>\n",
       "      <th>2</th>\n",
       "      <td>0</td>\n",
       "      <td>0</td>\n",
       "      <td>1</td>\n",
       "      <td>0</td>\n",
       "      <td>0</td>\n",
       "      <td>0</td>\n",
       "      <td>0</td>\n",
       "      <td>0</td>\n",
       "      <td>0</td>\n",
       "      <td>0</td>\n",
       "      <td>...</td>\n",
       "      <td>0</td>\n",
       "      <td>0</td>\n",
       "      <td>1</td>\n",
       "      <td>0</td>\n",
       "      <td>1</td>\n",
       "      <td>0</td>\n",
       "      <td>0</td>\n",
       "      <td>0</td>\n",
       "      <td>1</td>\n",
       "      <td>0</td>\n",
       "    </tr>\n",
       "    <tr>\n",
       "      <th>3</th>\n",
       "      <td>0</td>\n",
       "      <td>0</td>\n",
       "      <td>0</td>\n",
       "      <td>0</td>\n",
       "      <td>0</td>\n",
       "      <td>0</td>\n",
       "      <td>0</td>\n",
       "      <td>1</td>\n",
       "      <td>0</td>\n",
       "      <td>0</td>\n",
       "      <td>...</td>\n",
       "      <td>0</td>\n",
       "      <td>0</td>\n",
       "      <td>1</td>\n",
       "      <td>0</td>\n",
       "      <td>0</td>\n",
       "      <td>1</td>\n",
       "      <td>0</td>\n",
       "      <td>0</td>\n",
       "      <td>0</td>\n",
       "      <td>1</td>\n",
       "    </tr>\n",
       "    <tr>\n",
       "      <th>4</th>\n",
       "      <td>0</td>\n",
       "      <td>0</td>\n",
       "      <td>0</td>\n",
       "      <td>0</td>\n",
       "      <td>0</td>\n",
       "      <td>1</td>\n",
       "      <td>0</td>\n",
       "      <td>0</td>\n",
       "      <td>0</td>\n",
       "      <td>0</td>\n",
       "      <td>...</td>\n",
       "      <td>0</td>\n",
       "      <td>0</td>\n",
       "      <td>0</td>\n",
       "      <td>1</td>\n",
       "      <td>0</td>\n",
       "      <td>0</td>\n",
       "      <td>1</td>\n",
       "      <td>0</td>\n",
       "      <td>1</td>\n",
       "      <td>0</td>\n",
       "    </tr>\n",
       "    <tr>\n",
       "      <th>...</th>\n",
       "      <td>...</td>\n",
       "      <td>...</td>\n",
       "      <td>...</td>\n",
       "      <td>...</td>\n",
       "      <td>...</td>\n",
       "      <td>...</td>\n",
       "      <td>...</td>\n",
       "      <td>...</td>\n",
       "      <td>...</td>\n",
       "      <td>...</td>\n",
       "      <td>...</td>\n",
       "      <td>...</td>\n",
       "      <td>...</td>\n",
       "      <td>...</td>\n",
       "      <td>...</td>\n",
       "      <td>...</td>\n",
       "      <td>...</td>\n",
       "      <td>...</td>\n",
       "      <td>...</td>\n",
       "      <td>...</td>\n",
       "      <td>...</td>\n",
       "    </tr>\n",
       "    <tr>\n",
       "      <th>316794</th>\n",
       "      <td>0</td>\n",
       "      <td>0</td>\n",
       "      <td>0</td>\n",
       "      <td>0</td>\n",
       "      <td>0</td>\n",
       "      <td>0</td>\n",
       "      <td>0</td>\n",
       "      <td>0</td>\n",
       "      <td>0</td>\n",
       "      <td>0</td>\n",
       "      <td>...</td>\n",
       "      <td>0</td>\n",
       "      <td>0</td>\n",
       "      <td>0</td>\n",
       "      <td>1</td>\n",
       "      <td>0</td>\n",
       "      <td>0</td>\n",
       "      <td>0</td>\n",
       "      <td>1</td>\n",
       "      <td>0</td>\n",
       "      <td>1</td>\n",
       "    </tr>\n",
       "    <tr>\n",
       "      <th>316796</th>\n",
       "      <td>0</td>\n",
       "      <td>0</td>\n",
       "      <td>0</td>\n",
       "      <td>0</td>\n",
       "      <td>0</td>\n",
       "      <td>0</td>\n",
       "      <td>0</td>\n",
       "      <td>1</td>\n",
       "      <td>0</td>\n",
       "      <td>0</td>\n",
       "      <td>...</td>\n",
       "      <td>0</td>\n",
       "      <td>0</td>\n",
       "      <td>0</td>\n",
       "      <td>1</td>\n",
       "      <td>0</td>\n",
       "      <td>0</td>\n",
       "      <td>0</td>\n",
       "      <td>1</td>\n",
       "      <td>1</td>\n",
       "      <td>0</td>\n",
       "    </tr>\n",
       "    <tr>\n",
       "      <th>316797</th>\n",
       "      <td>0</td>\n",
       "      <td>0</td>\n",
       "      <td>0</td>\n",
       "      <td>1</td>\n",
       "      <td>0</td>\n",
       "      <td>0</td>\n",
       "      <td>0</td>\n",
       "      <td>0</td>\n",
       "      <td>0</td>\n",
       "      <td>0</td>\n",
       "      <td>...</td>\n",
       "      <td>0</td>\n",
       "      <td>0</td>\n",
       "      <td>0</td>\n",
       "      <td>1</td>\n",
       "      <td>0</td>\n",
       "      <td>0</td>\n",
       "      <td>1</td>\n",
       "      <td>0</td>\n",
       "      <td>1</td>\n",
       "      <td>0</td>\n",
       "    </tr>\n",
       "    <tr>\n",
       "      <th>316798</th>\n",
       "      <td>0</td>\n",
       "      <td>0</td>\n",
       "      <td>0</td>\n",
       "      <td>0</td>\n",
       "      <td>0</td>\n",
       "      <td>0</td>\n",
       "      <td>0</td>\n",
       "      <td>0</td>\n",
       "      <td>1</td>\n",
       "      <td>0</td>\n",
       "      <td>...</td>\n",
       "      <td>0</td>\n",
       "      <td>0</td>\n",
       "      <td>1</td>\n",
       "      <td>0</td>\n",
       "      <td>1</td>\n",
       "      <td>0</td>\n",
       "      <td>0</td>\n",
       "      <td>0</td>\n",
       "      <td>1</td>\n",
       "      <td>0</td>\n",
       "    </tr>\n",
       "    <tr>\n",
       "      <th>316799</th>\n",
       "      <td>0</td>\n",
       "      <td>0</td>\n",
       "      <td>0</td>\n",
       "      <td>0</td>\n",
       "      <td>0</td>\n",
       "      <td>1</td>\n",
       "      <td>0</td>\n",
       "      <td>0</td>\n",
       "      <td>0</td>\n",
       "      <td>0</td>\n",
       "      <td>...</td>\n",
       "      <td>0</td>\n",
       "      <td>0</td>\n",
       "      <td>1</td>\n",
       "      <td>0</td>\n",
       "      <td>1</td>\n",
       "      <td>0</td>\n",
       "      <td>0</td>\n",
       "      <td>0</td>\n",
       "      <td>0</td>\n",
       "      <td>1</td>\n",
       "    </tr>\n",
       "  </tbody>\n",
       "</table>\n",
       "<p>254534 rows × 22 columns</p>\n",
       "</div>"
      ],
      "text/plain": [
       "        newcity  converted  source_ads-bing  source_ads-google  \\\n",
       "0             0          0                0                  0   \n",
       "1             0          0                0                  0   \n",
       "2             0          0                1                  0   \n",
       "3             0          0                0                  0   \n",
       "4             0          0                0                  0   \n",
       "...         ...        ...              ...                ...   \n",
       "316794        0          0                0                  0   \n",
       "316796        0          0                0                  0   \n",
       "316797        0          0                0                  1   \n",
       "316798        0          0                0                  0   \n",
       "316799        0          0                0                  0   \n",
       "\n",
       "        source_ads-yahoo  source_ads_facebook  source_ads_other  \\\n",
       "0                      0                    1                 0   \n",
       "1                      0                    0                 0   \n",
       "2                      0                    0                 0   \n",
       "3                      0                    0                 0   \n",
       "4                      0                    1                 0   \n",
       "...                  ...                  ...               ...   \n",
       "316794                 0                    0                 0   \n",
       "316796                 0                    0                 0   \n",
       "316797                 0                    0                 0   \n",
       "316798                 0                    0                 0   \n",
       "316799                 0                    1                 0   \n",
       "\n",
       "        source_direct_traffic  source_friend_referral  source_seo-bing  ...  \\\n",
       "0                           0                       0                0  ...   \n",
       "1                           0                       0                0  ...   \n",
       "2                           0                       0                0  ...   \n",
       "3                           1                       0                0  ...   \n",
       "4                           0                       0                0  ...   \n",
       "...                       ...                     ...              ...  ...   \n",
       "316794                      0                       0                0  ...   \n",
       "316796                      1                       0                0  ...   \n",
       "316797                      0                       0                0  ...   \n",
       "316798                      0                       1                0  ...   \n",
       "316799                      0                       0                0  ...   \n",
       "\n",
       "        source_seo-yahoo  source_seo_facebook  device_mobile  device_web  \\\n",
       "0                      0                    0              1           0   \n",
       "1                      0                    0              1           0   \n",
       "2                      0                    0              1           0   \n",
       "3                      0                    0              1           0   \n",
       "4                      0                    0              0           1   \n",
       "...                  ...                  ...            ...         ...   \n",
       "316794                 0                    0              0           1   \n",
       "316796                 0                    0              0           1   \n",
       "316797                 0                    0              0           1   \n",
       "316798                 0                    0              1           0   \n",
       "316799                 0                    0              1           0   \n",
       "\n",
       "        operative_system_android  operative_system_iOS  operative_system_mac  \\\n",
       "0                              0                     1                     0   \n",
       "1                              1                     0                     0   \n",
       "2                              1                     0                     0   \n",
       "3                              0                     1                     0   \n",
       "4                              0                     0                     1   \n",
       "...                          ...                   ...                   ...   \n",
       "316794                         0                     0                     0   \n",
       "316796                         0                     0                     0   \n",
       "316797                         0                     0                     1   \n",
       "316798                         1                     0                     0   \n",
       "316799                         1                     0                     0   \n",
       "\n",
       "        operative_system_windows  price_39.0  price_59.0  \n",
       "0                              0           1           0  \n",
       "1                              0           1           0  \n",
       "2                              0           1           0  \n",
       "3                              0           0           1  \n",
       "4                              0           1           0  \n",
       "...                          ...         ...         ...  \n",
       "316794                         1           0           1  \n",
       "316796                         1           1           0  \n",
       "316797                         0           1           0  \n",
       "316798                         0           1           0  \n",
       "316799                         0           0           1  \n",
       "\n",
       "[254534 rows x 22 columns]"
      ]
     },
     "execution_count": 15,
     "metadata": {},
     "output_type": "execute_result"
    }
   ],
   "source": [
    "# Reorganizing features into a new dataframe\n",
    "cl_all['newcity'] = np.where(cl_all.city == 'New York', 1, 0) # The city column now has binary variables, NY(1) OR NOT(0) \n",
    "final = cl_all[['source', 'device','operative_system','price','newcity','converted']]\n",
    "final = pd.get_dummies(data=final, columns=['source', 'device','operative_system','price'])\n",
    "final # data set for modeling"
   ]
  },
  {
   "cell_type": "markdown",
   "metadata": {},
   "source": [
    "#### Imblance data\n",
    "The dataset is imbalanced. Thus, I first downsampled the majority class (customers with no conversion) in my training data set before model training. Downsampling is to increase model performance by decreasing the size of the majority class in the dataset so that the data set can be more balanced."
   ]
  },
  {
   "cell_type": "code",
   "execution_count": 83,
   "metadata": {
    "scrolled": true
   },
   "outputs": [
    {
     "name": "stdout",
     "output_type": "stream",
     "text": [
      "0    237234\n",
      "Name: converted, dtype: int64\n",
      "1    4521\n",
      "Name: converted, dtype: int64\n"
     ]
    },
    {
     "data": {
      "text/plain": [
       "0    9042\n",
       "1    4521\n",
       "Name: converted, dtype: int64"
      ]
     },
     "execution_count": 83,
     "metadata": {},
     "output_type": "execute_result"
    }
   ],
   "source": [
    "from sklearn.utils import resample\n",
    "# Create train and test sets \n",
    "split = np.random.rand(len(final)) < 0.95\n",
    "train = final[split]\n",
    "test = final[~split]\n",
    "#print(train)\n",
    "\n",
    "# Separate majority and minority classes\n",
    "train_majority = train[train.converted==0]\n",
    "train_minority = train[train.converted==1]\n",
    "print(train_majority.converted.value_counts())\n",
    "print(train_minority.converted.value_counts())\n",
    "\n",
    "# Downsample majority class\n",
    "train_majority_downsampled = resample(train_majority, replace=False, n_samples=len(train_minority)*2, random_state=123)\n",
    "train_downsampled = pd.concat([train_majority_downsampled, train_minority])\n",
    "train_downsampled.converted.value_counts()"
   ]
  },
  {
   "cell_type": "markdown",
   "metadata": {},
   "source": [
    "#### X (features) and Y (dependent variable, outcome) creation"
   ]
  },
  {
   "cell_type": "code",
   "execution_count": 84,
   "metadata": {
    "scrolled": true
   },
   "outputs": [],
   "source": [
    "# Y created\n",
    "train_labels = np.array(train['converted'])\n",
    "train_labels\n",
    "train_downsampled_labels = np.array(train_downsampled['converted'])\n",
    "test_labels = np.array(test['converted'])\n",
    "\n",
    "# Remove the labels from the features - axis 1 is columns\n",
    "train = train.drop('converted', axis = 1) # X\n",
    "train\n",
    "train_downsampled= train_downsampled.drop('converted', axis = 1)\n",
    "test = test.drop('converted', axis = 1)\n",
    "# Saving feature names for later use\n",
    "train_colnames = list(train.columns)\n",
    "train_downsampled_colnames = list(train_downsampled.columns)\n",
    "test_colnames = list(test.columns)\n",
    "# X created\n",
    "train_features = np.array(train)\n",
    "train_downsampled_features = np.array(train_downsampled)\n",
    "test_features = np.array(test)"
   ]
  },
  {
   "cell_type": "markdown",
   "metadata": {},
   "source": [
    "#### Model creation with full features "
   ]
  },
  {
   "cell_type": "code",
   "execution_count": 99,
   "metadata": {},
   "outputs": [
    {
     "data": {
      "image/png": "[encoded data removed]",
      "text/plain": [
       "<Figure size 432x288 with 1 Axes>"
      ]
     },
     "metadata": {
      "needs_background": "light"
     },
     "output_type": "display_data"
    },
    {
     "name": "stdout",
     "output_type": "stream",
     "text": [
      "              precision    recall  f1-score   support\n",
      "\n",
      "           0       0.98      0.96      0.97     12540\n",
      "           1       0.05      0.10      0.07       239\n",
      "\n",
      "    accuracy                           0.95     12779\n",
      "   macro avg       0.52      0.53      0.52     12779\n",
      "weighted avg       0.97      0.95      0.96     12779\n",
      "\n"
     ]
    }
   ],
   "source": [
    "from sklearn.metrics import roc_curve\n",
    "from matplotlib import pyplot\n",
    "\n",
    "# Create the conversion regression model with full features \n",
    "logreg = LogisticRegression(solver = 'liblinear')\n",
    "logreg.fit(train_downsampled_features, train_downsampled_labels) \n",
    "y_predict = logreg.predict(test_features) \n",
    "lr_probs = logreg.predict_proba(test_features)\n",
    "lr_probs = lr_probs[:, 1]\n",
    "\n",
    "# calculate roc curves\n",
    "fpr, tpr, thresholds = roc_curve(test_labels, lr_probs)\n",
    "# plot the roc curve for the model\n",
    "pyplot.plot([0,1], [0,1], linestyle='--', label='No Skill')\n",
    "pyplot.plot(fpr, tpr, marker='.', label='Logistic')\n",
    "# axis labels\n",
    "pyplot.xlabel('False Positive Rate')\n",
    "pyplot.ylabel('True Positive Rate')\n",
    "pyplot.legend()\n",
    "# show the plot\n",
    "pyplot.show()\n",
    "\n",
    "# Evaluate model performance \n",
    "from sklearn import metrics\n",
    "confusion_m = metrics.confusion_matrix(test_labels, y_predict)\n",
    "confusion_m\n",
    "\n",
    "from sklearn.metrics import classification_report\n",
    "print(classification_report(test_labels, y_predict))"
   ]
  },
  {
   "attachments": {},
   "cell_type": "markdown",
   "metadata": {},
   "source": [
    "#### Modeling: Feature Engineering using RFE \n",
    "But the model above has too many features so this step is to reduce the number of features. \n",
    "\n",
    "One of essencial parts in modeling is to select appropriate features so that a model has a simple and good accuracy. Here, I used recursive feature elimination (RFE) for feature selection. This is an approach for eliminating features from a training dataset until the desired number of features remains. Features are ranked by the model’s coefficients."
   ]
  },
  {
   "cell_type": "code",
   "execution_count": 139,
   "metadata": {
    "scrolled": true
   },
   "outputs": [
    {
     "name": "stdout",
     "output_type": "stream",
     "text": [
      "Num Features: 5\n",
      "Selected Features: [False False  True False  True False False  True False False False False\n",
      " False False False  True False False  True False False]\n",
      "Feature Ranking: [17  4  1  5  1  6  2  1  7 14 15 13 16  8  9  1 11 10  1 12  3]\n"
     ]
    }
   ],
   "source": [
    "from sklearn.linear_model import LogisticRegression\n",
    "from sklearn.feature_selection import RFE\n",
    "model = LogisticRegression(solver = 'liblinear')\n",
    "rfe = RFE(model, 5)\n",
    "fit = rfe.fit(train_downsampled_features, train_downsampled_labels)\n",
    "print(\"Num Features: %d\" % fit.n_features_)\n",
    "print(\"Selected Features: %s\" % fit.support_)\n",
    "print(\"Feature Ranking: %s\" % fit.ranking_)"
   ]
  },
  {
   "cell_type": "code",
   "execution_count": 140,
   "metadata": {},
   "outputs": [
    {
     "name": "stdout",
     "output_type": "stream",
     "text": [
      "              precision    recall  f1-score   support\n",
      "\n",
      "           0       0.98      0.96      0.97     12540\n",
      "           1       0.05      0.10      0.07       239\n",
      "\n",
      "    accuracy                           0.95     12779\n",
      "   macro avg       0.52      0.53      0.52     12779\n",
      "weighted avg       0.97      0.95      0.96     12779\n",
      "\n"
     ]
    }
   ],
   "source": [
    "# Create the conversion regression model with partial 10 features \n",
    "new_cols=['source_ads-bing','source_ads-google','source_ads_facebook','source_ads_other','source_direct_traffic','source_friend_referral','operative_system_android','operative_system_windows','price_59.0'] \n",
    "X_train=train_downsampled[new_cols]\n",
    "X_train = np.array(X_train)\n",
    "X_test=test[new_cols]\n",
    "X_test= np.array(X_test)\n",
    "\n",
    "logreg = LogisticRegression()\n",
    "logreg.fit(X_train, train_downsampled_labels) \n",
    "y_predict2 = logreg.predict(X_test) \n",
    "\n",
    "# Evaluate model performance \n",
    "from sklearn import metrics\n",
    "confusion_m = metrics.confusion_matrix(test_labels, y_predict2)\n",
    "confusion_m\n",
    "\n",
    "from sklearn.metrics import classification_report\n",
    "print(classification_report(test_labels, y_predict2))"
   ]
  },
  {
   "cell_type": "code",
   "execution_count": 136,
   "metadata": {
    "scrolled": true
   },
   "outputs": [
    {
     "name": "stdout",
     "output_type": "stream",
     "text": [
      "Optimization terminated successfully.\n",
      "         Current function value: 0.624590\n",
      "         Iterations 5\n",
      "                         Results: Logit\n",
      "=================================================================\n",
      "Model:              Logit            Pseudo R-squared: 0.019     \n",
      "Dependent Variable: y                AIC:              16960.6239\n",
      "Date:               2021-01-04 21:48 BIC:              17028.2598\n",
      "No. Observations:   13563            Log-Likelihood:   -8471.3   \n",
      "Df Model:           8                LL-Null:          -8633.0   \n",
      "Df Residuals:       13554            LLR p-value:      4.1493e-65\n",
      "Converged:          1.0000           Scale:            1.0000    \n",
      "No. Iterations:     5.0000                                       \n",
      "-------------------------------------------------------------------\n",
      "          Coef.    Std.Err.      z       P>|z|     [0.025    0.975]\n",
      "-------------------------------------------------------------------\n",
      "x1       -0.6019     0.0818    -7.3591   0.0000   -0.7622   -0.4416\n",
      "x2       -0.1231     0.0449    -2.7416   0.0061   -0.2111   -0.0351\n",
      "x3       -0.1167     0.0472    -2.4708   0.0135   -0.2094   -0.0241\n",
      "x4       -0.5507     0.0679    -8.1140   0.0000   -0.6838   -0.4177\n",
      "x5       -0.6980     0.0521   -13.4079   0.0000   -0.8000   -0.5959\n",
      "x6        0.5259     0.0630     8.3507   0.0000    0.4024    0.6493\n",
      "x7       -0.6286     0.0450   -13.9703   0.0000   -0.7167   -0.5404\n",
      "x8       -0.5226     0.0392   -13.3183   0.0000   -0.5995   -0.4457\n",
      "x9       -0.3247     0.0380    -8.5486   0.0000   -0.3991   -0.2502\n",
      "=================================================================\n",
      "\n"
     ]
    }
   ],
   "source": [
    "# model summary \n",
    "logit_model=sm.Logit(train_downsampled_labels,X_train)\n",
    "result=logit_model.fit()\n",
    "print(result.summary2())"
   ]
  },
  {
   "cell_type": "markdown",
   "metadata": {},
   "source": [
    "#### Summary and problem with modeling"
   ]
  },
  {
   "attachments": {},
   "cell_type": "markdown",
   "metadata": {},
   "source": [
    "The model with 10 features still did not predict 'conversion' well. Precision to class 1 (conversion rate) is close to 0 meaning that (both) models do not have an ability to correctly classify the categories. \n",
    "\n",
    "Why?\n",
    "One of the reasons can be strongly related with features and sampling procedure. When I downsampled the majority class (data with no conversion), the patterns of data that we saw in EDA section could have disappeared. One way to overcome this problem may be to increase the minority class (data with conversion) by duplicating data. This approach is safer in that it will keep the patterns of conversion data shown in EDA."
   ]
  }
 ],
 "metadata": {
  "kernelspec": {
   "display_name": "Python 3",
   "language": "python",
   "name": "python3"
  },
  "language_info": {
   "codemirror_mode": {
    "name": "ipython",
    "version": 3
   },
   "file_extension": ".py",
   "mimetype": "text/x-python",
   "name": "python",
   "nbconvert_exporter": "python",
   "pygments_lexer": "ipython3",
   "version": "3.8.2"
  }
 },
 "nbformat": 4,
 "nbformat_minor": 4
}
