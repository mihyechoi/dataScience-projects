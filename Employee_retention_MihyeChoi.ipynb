{
 "cells": [
  {
   "cell_type": "markdown",
   "metadata": {},
   "source": [
    "# Improving Employee Retention \n",
    "## Insight data challenge \n",
    "## Mihye Choi \n",
    "## October, 2020\n"
   ]
  },
  {
   "cell_type": "markdown",
   "metadata": {},
   "source": [
    "# Executive Summary\n",
    "\n",
    "## The goal here is to predict when employees are going to quit by understanding the main drivers of employee churn.\n",
    "\n",
    "### Based on historical data from employees who have left companies, the following actions may help improve employee retention:\n",
    "\n",
    "1. Salary has a small positive effect on retention. So if budget permits, it would be optimal to pay more.\n",
    "2. The most likely time for an employee to turnover occurs between 250 days and 500 days, just around 1 year of tenure. There could be a variety of reasons behind this, from pressure of ramping up, to perverse incentive like vesting schedules. It would be worthwhile to dive deeper into this topic.\n",
    "3. Entry level employees are less likely to turnover. Mid level employees with 5-15 years of experience at significantly more likely. There is likely more opportunity in the job market for these employees so the company need to focus on the mid-levels for retention improvement efforts\n",
    "4. Customer service agents are both far more likely to turnover and have more in absolutely turnovers. This is a significant drain on company resources and HR must leverage salary or other quality of life tools to improve retention.\n",
    "\n"
   ]
  },
  {
   "cell_type": "code",
   "execution_count": 1,
   "metadata": {},
   "outputs": [],
   "source": [
    "import pandas as pd\n",
    "import numpy as np\n",
    "import matplotlib.pyplot as plt\n",
    "import seaborn as sns\n",
    "import sklearn\n",
    "import scipy\n",
    "import statsmodels.api as sm\n",
    "import datetime"
   ]
  },
  {
   "cell_type": "markdown",
   "metadata": {},
   "source": [
    "## Data Overview and Cleaning:"
   ]
  },
  {
   "cell_type": "code",
   "execution_count": 2,
   "metadata": {},
   "outputs": [
    {
     "name": "stdout",
     "output_type": "stream",
     "text": [
      "       employee_id  company_id              dept  seniority    salary  \\\n",
      "0        1001444.0           8   temp_contractor          0    5850.0   \n",
      "1         388804.0           8            design         21  191000.0   \n",
      "2         407990.0           3            design          9   90000.0   \n",
      "3         120657.0           2          engineer         20  298000.0   \n",
      "4        1006393.0           1   temp_contractor          0    8509.0   \n",
      "...            ...         ...               ...        ...       ...   \n",
      "34697     998574.0           5         marketing          6  106000.0   \n",
      "34698      90987.0           3  customer_service          2   24000.0   \n",
      "34699    1009820.0           2   temp_contractor          0    7176.0   \n",
      "34700    1002557.0           1   temp_contractor          0    9297.0   \n",
      "34701     963023.0           2            design          2   53000.0   \n",
      "\n",
      "        join_date   quit_date  \n",
      "0      2008-01-26  2008-04-25  \n",
      "1      05.17.2011  2012-03-16  \n",
      "2      2012-03-26  2015-04-10  \n",
      "3      2013-04-08  2015-01-30  \n",
      "4      2008-07-20  2008-10-18  \n",
      "...           ...         ...  \n",
      "34697  2013-09-23  2015-07-31  \n",
      "34698  2011-06-06  2013-07-11  \n",
      "34699  2009-01-18  2009-04-18  \n",
      "34700  2008-11-27  2009-02-25  \n",
      "34701  2013-01-22  2015-01-02  \n",
      "\n",
      "[34702 rows x 7 columns]\n"
     ]
    }
   ],
   "source": [
    "df = pd.read_csv('employee_retention.txt', delimiter=',')\n",
    "df= df.drop(df.columns[[0]], axis=1)\n",
    "print(df)"
   ]
  },
  {
   "cell_type": "code",
   "execution_count": 3,
   "metadata": {},
   "outputs": [
    {
     "name": "stdout",
     "output_type": "stream",
     "text": [
      "       employee_id  company_id              dept  seniority    salary  \\\n",
      "1         388804.0           8            design         21  191000.0   \n",
      "2         407990.0           3            design          9   90000.0   \n",
      "3         120657.0           2          engineer         20  298000.0   \n",
      "5         287530.0           5         marketing         20  180000.0   \n",
      "6         561043.0           3  customer_service         18  119000.0   \n",
      "...            ...         ...               ...        ...       ...   \n",
      "34695     414232.0           6            design         22  150000.0   \n",
      "34696     702053.0           2            design         23  192000.0   \n",
      "34697     998574.0           5         marketing          6  106000.0   \n",
      "34698      90987.0           3  customer_service          2   24000.0   \n",
      "34701     963023.0           2            design          2   53000.0   \n",
      "\n",
      "       join_date  quit_date  \n",
      "1     2011-05-17 2012-03-16  \n",
      "2     2012-03-26 2015-04-10  \n",
      "3     2013-04-08 2015-01-30  \n",
      "5     2014-06-30        NaT  \n",
      "6     2012-07-02 2014-03-28  \n",
      "...          ...        ...  \n",
      "34695 2014-09-29 2015-10-30  \n",
      "34696 2015-06-29        NaT  \n",
      "34697 2013-09-23 2015-07-31  \n",
      "34698 2011-06-06 2013-07-11  \n",
      "34701 2013-01-22 2015-01-02  \n",
      "\n",
      "[24619 rows x 7 columns]\n"
     ]
    }
   ],
   "source": [
    "# Data pre-processing.\n",
    "dept_check = df.dept.value_counts()/len(df) # typo check \n",
    "df = df[df.seniority < 70] # seniority value check, value over 70 is likely to be an error\n",
    "df['join_date'] = pd.to_datetime(df.join_date) # to have the consistend date format, print(df.join_date.min())\n",
    "df['quit_date'] = pd.to_datetime(df.quit_date) # print(df.quit_date.max())\n",
    "start_date = '2011-01-24'# set the right range \n",
    "end_date = '2015-12-13'# set the right range \n",
    "mask = (df['join_date'] > start_date) & (df['join_date'] <= end_date)\n",
    "df = df.loc[mask]\n",
    "print(df)"
   ]
  },
  {
   "cell_type": "code",
   "execution_count": 4,
   "metadata": {},
   "outputs": [
    {
     "name": "stderr",
     "output_type": "stream",
     "text": [
      "<ipython-input-4-2a0c3c1ad44d>:2: SettingWithCopyWarning: \n",
      "A value is trying to be set on a copy of a slice from a DataFrame\n",
      "\n",
      "See the caveats in the documentation: https://pandas.pydata.org/pandas-docs/stable/user_guide/indexing.html#returning-a-view-versus-a-copy\n",
      "  df.quit[df.quit != 0] = 1\n"
     ]
    }
   ],
   "source": [
    "# make a new column for retention, turnover = 1, retention = 0.  \n",
    "df['quit'] = df['quit_date'].fillna(0) \n",
    "df.quit[df.quit != 0] = 1\n",
    "df['quit']= df['quit'].astype(int)\n",
    "df['quit_date2'] = df['quit_date'].fillna('2015-12-13')\n",
    "df['quit_date2']=  pd.to_datetime(df.quit_date2)\n",
    "df['days_at_company'] = df['quit_date2']-df['join_date']\n",
    "df['days_at_company'] = df['days_at_company'].dt.days"
   ]
  },
  {
   "cell_type": "markdown",
   "metadata": {},
   "source": [
    "# Exploratory Data Analysis (EDA)"
   ]
  },
  {
   "cell_type": "code",
   "execution_count": 5,
   "metadata": {},
   "outputs": [
    {
     "name": "stdout",
     "output_type": "stream",
     "text": [
      "         employee_id    company_id     seniority         salary          quit  \\\n",
      "count   24619.000000  24619.000000  24619.000000   24380.000000  24619.000000   \n",
      "mean   501670.191153      3.427556     14.118526  138160.746514      0.545392   \n",
      "std    288930.746415      2.700800      8.055201   76045.876338      0.497945   \n",
      "min        36.000000      1.000000      1.000000   17000.000000      0.000000   \n",
      "25%    250469.500000      1.000000      7.000000   79000.000000      0.000000   \n",
      "50%    500786.000000      2.000000     14.000000  123000.000000      1.000000   \n",
      "75%    753147.000000      5.000000     21.000000  187000.000000      1.000000   \n",
      "max    999969.000000     12.000000     29.000000  408000.000000      1.000000   \n",
      "\n",
      "       days_at_company  \n",
      "count     24619.000000  \n",
      "mean        573.721435  \n",
      "std         361.316221  \n",
      "min           3.000000  \n",
      "25%         333.000000  \n",
      "50%         424.000000  \n",
      "75%         781.000000  \n",
      "max        1777.000000  \n"
     ]
    },
    {
     "data": {
      "image/png": "[encoded data removed]",
      "text/plain": [
       "<Figure size 720x720 with 6 Axes>"
      ]
     },
     "metadata": {
      "needs_background": "light"
     },
     "output_type": "display_data"
    }
   ],
   "source": [
    "print(pd.DataFrame.describe(df))\n",
    "df.hist(figsize=(10,10))\n",
    "plt.show()"
   ]
  },
  {
   "cell_type": "code",
   "execution_count": 6,
   "metadata": {},
   "outputs": [
    {
     "name": "stdout",
     "output_type": "stream",
     "text": [
      "24619\n",
      "        employee_id  company_id  seniority         salary  days_at_company\n",
      "quit                                                                      \n",
      "0     501079.237759    3.387688  14.123392  141192.259112       527.039224\n",
      "1     502162.777016    3.460788  14.114471  135633.574007       612.633127\n",
      "1    0.545392\n",
      "0    0.454608\n",
      "Name: quit, dtype: float64\n"
     ]
    }
   ],
   "source": [
    "# the outputs show how each factor impacts the likelihood of the turnover rate.\n",
    "print(len(df.quit))\n",
    "print(df.groupby(df.quit).mean())\n",
    "print(df.quit.value_counts()/len(df))"
   ]
  },
  {
   "cell_type": "code",
   "execution_count": 7,
   "metadata": {},
   "outputs": [
    {
     "name": "stdout",
     "output_type": "stream",
     "text": [
      "company_id    1     2     3     4    5    6    7    8    9    10  11  12\n",
      "quit                                                                    \n",
      "0           3865  2016  1218   909  772  579  532  468  432  385   4  12\n",
      "1           4595  2189  1522  1141  978  709  691  573  526  479  12  12\n"
     ]
    },
    {
     "data": {
      "text/plain": [
       "Text(0.5, 0, 'Company ID')"
      ]
     },
     "execution_count": 7,
     "metadata": {},
     "output_type": "execute_result"
    },
    {
     "data": {
      "image/png": "[encoded data removed]",
      "text/plain": [
       "<Figure size 432x288 with 1 Axes>"
      ]
     },
     "metadata": {
      "needs_background": "light"
     },
     "output_type": "display_data"
    }
   ],
   "source": [
    "# turnover frequency by companies\n",
    "print(pd.crosstab(df.quit, df.company_id)) \n",
    "df[df.quit==1].company_id.plot(kind='hist', logy=True, alpha=0.3, label= 'turnover', color = \"navy\")\n",
    "df[df.quit==0].company_id.plot(kind='hist', logy=True, alpha=0.5, label= 'retention', color = \"red\")\n",
    "plt.legend(loc=1, fontsize='medium')\n",
    "plt.xlabel('Company ID')\n"
   ]
  },
  {
   "cell_type": "code",
   "execution_count": 40,
   "metadata": {},
   "outputs": [
    {
     "name": "stdout",
     "output_type": "stream",
     "text": [
      "dept  customer_service  data_science  design  engineer  marketing  sales\n",
      "quit                                                                    \n",
      "0                 4086          1508     602      2251       1384   1361\n",
      "1                 5061          1664     773      2348       1778   1803\n"
     ]
    },
    {
     "data": {
      "text/plain": [
       "<matplotlib.legend.Legend at 0x1205f5460>"
      ]
     },
     "execution_count": 40,
     "metadata": {},
     "output_type": "execute_result"
    },
    {
     "data": {
      "image/png": "[encoded data removed]",
      "text/plain": [
       "<Figure size 432x288 with 1 Axes>"
      ]
     },
     "metadata": {
      "needs_background": "light"
     },
     "output_type": "display_data"
    }
   ],
   "source": [
    "# turnover frequency by department. Customer Service dept has the most turnover\n",
    "print(pd.crosstab(df.quit, df.dept)) \n",
    "pd.crosstab(df.dept,df.quit).plot(kind='bar', color=['palevioletred','cornflowerblue'])\n",
    "plt.legend(title='turnover (1)')"
   ]
  },
  {
   "cell_type": "code",
   "execution_count": 481,
   "metadata": {},
   "outputs": [
    {
     "name": "stdout",
     "output_type": "stream",
     "text": [
      "days_at_company  3     4     5     6     10    11    12    13    18    19    \\\n",
      "quit                                                                          \n",
      "0                   2     4     5    78     4     3    10    86    13     7   \n",
      "1                   0     0     0     0     0     0     0     0     0     0   \n",
      "\n",
      "days_at_company  ...  1707  1714  1721  1726  1728  1742  1763  1769  1770  \\\n",
      "quit             ...                                                         \n",
      "0                ...     1     1     1     0     2     1     1     1     2   \n",
      "1                ...     0     0     0     1     0     0     0     0     0   \n",
      "\n",
      "days_at_company  1777  \n",
      "quit                   \n",
      "0                   3  \n",
      "1                   0  \n",
      "\n",
      "[2 rows x 1352 columns]\n"
     ]
    },
    {
     "data": {
      "text/plain": [
       "Text(0.5, 0, 'days')"
      ]
     },
     "execution_count": 481,
     "metadata": {},
     "output_type": "execute_result"
    },
    {
     "data": {
      "image/png": "[encoded data removed]",
      "text/plain": [
       "<Figure size 432x288 with 1 Axes>"
      ]
     },
     "metadata": {
      "needs_background": "light"
     },
     "output_type": "display_data"
    }
   ],
   "source": [
    "# turnover frequency by days at company. There is a peak (250-500 days) where turnover is highest. \n",
    "print(pd.crosstab(df.quit, df.days_at_company)) \n",
    "df[df.quit==1].days_at_company.plot(kind='hist', logy=True, alpha=0.3, label= 'turnover', color = \"navy\")\n",
    "df[df.quit==0].days_at_company.plot(kind='hist', logy=True, alpha=0.5, label= 'retention', color = \"red\")\n",
    "plt.legend(loc=1, fontsize='medium')\n",
    "plt.xlabel('days')"
   ]
  },
  {
   "cell_type": "code",
   "execution_count": 41,
   "metadata": {},
   "outputs": [
    {
     "name": "stdout",
     "output_type": "stream",
     "text": [
      "seniority   1    2    3    4    5    6    7    8    9    10  ...   20   21  \\\n",
      "quit                                                         ...             \n",
      "0          431  442  434  473  403  379  417  422  422  404  ...  375  327   \n",
      "1          426  496  446  421  529  571  510  582  519  521  ...  467  452   \n",
      "\n",
      "seniority   22   23   24   25   26   27   28   29  \n",
      "quit                                               \n",
      "0          359  355  345  312  335  300  265  318  \n",
      "1          403  428  394  399  357  342  318  306  \n",
      "\n",
      "[2 rows x 29 columns]\n"
     ]
    },
    {
     "data": {
      "text/plain": [
       "<matplotlib.legend.Legend at 0x1207a6bb0>"
      ]
     },
     "execution_count": 41,
     "metadata": {},
     "output_type": "execute_result"
    },
    {
     "data": {
      "image/png": "[encoded data removed]",
      "text/plain": [
       "<Figure size 432x288 with 1 Axes>"
      ]
     },
     "metadata": {
      "needs_background": "light"
     },
     "output_type": "display_data"
    }
   ],
   "source": [
    "# turnover frequency by years of seniority\n",
    "print(pd.crosstab(df.quit, df.seniority)) \n",
    "pd.crosstab(df.seniority,df.quit).plot(kind='bar', color=['palevioletred','cornflowerblue'])\n",
    "plt.legend(title='turnover (1)')"
   ]
  },
  {
   "cell_type": "code",
   "execution_count": 483,
   "metadata": {},
   "outputs": [
    {
     "data": {
      "text/plain": [
       "Text(0.5, 0, 'Salary')"
      ]
     },
     "execution_count": 483,
     "metadata": {},
     "output_type": "execute_result"
    },
    {
     "data": {
      "image/png": "[encoded data removed]",
      "text/plain": [
       "<Figure size 432x288 with 1 Axes>"
      ]
     },
     "metadata": {
      "needs_background": "light"
     },
     "output_type": "display_data"
    }
   ],
   "source": [
    "# turnover frequency by salary. \n",
    "df[df.quit==1].salary.plot(kind='hist', logy=True, alpha=0.3, label= 'turnover', color = \"navy\")\n",
    "df[df.quit==0].salary.plot(kind='hist', logy=True, alpha=0.5, label= 'retention', color = \"red\")\n",
    "plt.axvline(df[df.quit==1].salary.mean(), color = 'navy', label = '')\n",
    "plt.axvline(df[df.quit==0].salary.mean(), color = 'red', label = '')\n",
    "plt.legend(loc=1, fontsize='medium')\n",
    "plt.xlabel('Salary')"
   ]
  },
  {
   "cell_type": "markdown",
   "metadata": {},
   "source": [
    "## Take Away from the EDA:\n",
    "Employees who turnovered, on average:\n",
    "\n",
    "    (1) work in customer service deaprtment\n",
    "    (2) left companies when they just around 1 year of tenure (250 - 500 days)\n",
    "    (3) mid-senior level (5-15 years of seniority) \n",
    "\n",
    "Thus, I anticipate that department, seniority, days at company will be important feautures for prediction."
   ]
  },
  {
   "cell_type": "markdown",
   "metadata": {},
   "source": [
    "# Turnover Model\n",
    "\n",
    "I comapred a logistic regression vs. survival analysis to predict customer conversion. This is simple base model to start with that provides interpretability, which can be used to make informed marketing recommendation. In addition, the features are not correlated so a logistic regression should peform well. \n",
    "\n",
    "This dataset is imbalanced so I am going to downsample the majority class (not converted customers) in my training data set before model training. Downsampling will decrease the size of the dataset so to ensure that the balancing provides increased model performance I will compare a logistic regression with and without a balanced training test. The test set will remain imbalanced to as to be more realistic.\n",
    "\n",
    "A random forest is another possibilty and would not require balancing the data set, however the feature importances are not as immediately interpretible as the logistic regression."
   ]
  },
  {
   "cell_type": "code",
   "execution_count": 534,
   "metadata": {},
   "outputs": [
    {
     "name": "stdout",
     "output_type": "stream",
     "text": [
      "       employee_id  company_id              dept  seniority    salary  \\\n",
      "1         388804.0           8            design         21  191000.0   \n",
      "2         407990.0           3            design          9   90000.0   \n",
      "3         120657.0           2          engineer         20  298000.0   \n",
      "5         287530.0           5         marketing         20  180000.0   \n",
      "6         561043.0           3  customer_service         18  119000.0   \n",
      "...            ...         ...               ...        ...       ...   \n",
      "34695     414232.0           6            design         22  150000.0   \n",
      "34696     702053.0           2            design         23  192000.0   \n",
      "34697     998574.0           5         marketing          6  106000.0   \n",
      "34698      90987.0           3  customer_service          2   24000.0   \n",
      "34701     963023.0           2            design          2   53000.0   \n",
      "\n",
      "       join_date  quit_date  quit quit_date2  days_at_company  \\\n",
      "1     2011-05-17 2012-03-16     1 2012-03-16              304   \n",
      "2     2012-03-26 2015-04-10     1 2015-04-10             1110   \n",
      "3     2013-04-08 2015-01-30     1 2015-01-30              662   \n",
      "5     2014-06-30        NaT     0 2015-12-13              531   \n",
      "6     2012-07-02 2014-03-28     1 2014-03-28              634   \n",
      "...          ...        ...   ...        ...              ...   \n",
      "34695 2014-09-29 2015-10-30     1 2015-10-30              396   \n",
      "34696 2015-06-29        NaT     0 2015-12-13              167   \n",
      "34697 2013-09-23 2015-07-31     1 2015-07-31              676   \n",
      "34698 2011-06-06 2013-07-11     1 2013-07-11              766   \n",
      "34701 2013-01-22 2015-01-02     1 2015-01-02              710   \n",
      "\n",
      "       dept_customer_service  dept_data_science  dept_design  dept_engineer  \\\n",
      "1                          0                  0            1              0   \n",
      "2                          0                  0            1              0   \n",
      "3                          0                  0            0              1   \n",
      "5                          0                  0            0              0   \n",
      "6                          1                  0            0              0   \n",
      "...                      ...                ...          ...            ...   \n",
      "34695                      0                  0            1              0   \n",
      "34696                      0                  0            1              0   \n",
      "34697                      0                  0            0              0   \n",
      "34698                      1                  0            0              0   \n",
      "34701                      0                  0            1              0   \n",
      "\n",
      "       dept_marketing  dept_sales  \n",
      "1                   0           0  \n",
      "2                   0           0  \n",
      "3                   0           0  \n",
      "5                   1           0  \n",
      "6                   0           0  \n",
      "...               ...         ...  \n",
      "34695               0           0  \n",
      "34696               0           0  \n",
      "34697               1           0  \n",
      "34698               0           0  \n",
      "34701               0           0  \n",
      "\n",
      "[24619 rows x 16 columns]\n"
     ]
    },
    {
     "data": {
      "text/html": [
       "<div>\n",
       "<style scoped>\n",
       "    .dataframe tbody tr th:only-of-type {\n",
       "        vertical-align: middle;\n",
       "    }\n",
       "\n",
       "    .dataframe tbody tr th {\n",
       "        vertical-align: top;\n",
       "    }\n",
       "\n",
       "    .dataframe thead th {\n",
       "        text-align: right;\n",
       "    }\n",
       "</style>\n",
       "<table border=\"1\" class=\"dataframe\">\n",
       "  <thead>\n",
       "    <tr style=\"text-align: right;\">\n",
       "      <th></th>\n",
       "      <th>employee_id</th>\n",
       "      <th>company_id</th>\n",
       "      <th>dept</th>\n",
       "      <th>seniority</th>\n",
       "      <th>salary</th>\n",
       "      <th>join_date</th>\n",
       "      <th>quit_date</th>\n",
       "      <th>quit</th>\n",
       "      <th>quit_date2</th>\n",
       "      <th>days_at_company</th>\n",
       "      <th>dept_customer_service</th>\n",
       "      <th>dept_data_science</th>\n",
       "      <th>dept_design</th>\n",
       "      <th>dept_engineer</th>\n",
       "      <th>dept_marketing</th>\n",
       "      <th>dept_sales</th>\n",
       "    </tr>\n",
       "  </thead>\n",
       "  <tbody>\n",
       "    <tr>\n",
       "      <th>1</th>\n",
       "      <td>388804.0</td>\n",
       "      <td>8</td>\n",
       "      <td>design</td>\n",
       "      <td>21</td>\n",
       "      <td>191000.0</td>\n",
       "      <td>2011-05-17</td>\n",
       "      <td>2012-03-16</td>\n",
       "      <td>1</td>\n",
       "      <td>2012-03-16</td>\n",
       "      <td>304</td>\n",
       "      <td>0</td>\n",
       "      <td>0</td>\n",
       "      <td>1</td>\n",
       "      <td>0</td>\n",
       "      <td>0</td>\n",
       "      <td>0</td>\n",
       "    </tr>\n",
       "    <tr>\n",
       "      <th>2</th>\n",
       "      <td>407990.0</td>\n",
       "      <td>3</td>\n",
       "      <td>design</td>\n",
       "      <td>9</td>\n",
       "      <td>90000.0</td>\n",
       "      <td>2012-03-26</td>\n",
       "      <td>2015-04-10</td>\n",
       "      <td>1</td>\n",
       "      <td>2015-04-10</td>\n",
       "      <td>1110</td>\n",
       "      <td>0</td>\n",
       "      <td>0</td>\n",
       "      <td>1</td>\n",
       "      <td>0</td>\n",
       "      <td>0</td>\n",
       "      <td>0</td>\n",
       "    </tr>\n",
       "    <tr>\n",
       "      <th>3</th>\n",
       "      <td>120657.0</td>\n",
       "      <td>2</td>\n",
       "      <td>engineer</td>\n",
       "      <td>20</td>\n",
       "      <td>298000.0</td>\n",
       "      <td>2013-04-08</td>\n",
       "      <td>2015-01-30</td>\n",
       "      <td>1</td>\n",
       "      <td>2015-01-30</td>\n",
       "      <td>662</td>\n",
       "      <td>0</td>\n",
       "      <td>0</td>\n",
       "      <td>0</td>\n",
       "      <td>1</td>\n",
       "      <td>0</td>\n",
       "      <td>0</td>\n",
       "    </tr>\n",
       "    <tr>\n",
       "      <th>6</th>\n",
       "      <td>561043.0</td>\n",
       "      <td>3</td>\n",
       "      <td>customer_service</td>\n",
       "      <td>18</td>\n",
       "      <td>119000.0</td>\n",
       "      <td>2012-07-02</td>\n",
       "      <td>2014-03-28</td>\n",
       "      <td>1</td>\n",
       "      <td>2014-03-28</td>\n",
       "      <td>634</td>\n",
       "      <td>1</td>\n",
       "      <td>0</td>\n",
       "      <td>0</td>\n",
       "      <td>0</td>\n",
       "      <td>0</td>\n",
       "      <td>0</td>\n",
       "    </tr>\n",
       "    <tr>\n",
       "      <th>7</th>\n",
       "      <td>702479.0</td>\n",
       "      <td>7</td>\n",
       "      <td>data_science</td>\n",
       "      <td>7</td>\n",
       "      <td>140000.0</td>\n",
       "      <td>2011-12-27</td>\n",
       "      <td>2013-08-30</td>\n",
       "      <td>1</td>\n",
       "      <td>2013-08-30</td>\n",
       "      <td>612</td>\n",
       "      <td>0</td>\n",
       "      <td>1</td>\n",
       "      <td>0</td>\n",
       "      <td>0</td>\n",
       "      <td>0</td>\n",
       "      <td>0</td>\n",
       "    </tr>\n",
       "    <tr>\n",
       "      <th>...</th>\n",
       "      <td>...</td>\n",
       "      <td>...</td>\n",
       "      <td>...</td>\n",
       "      <td>...</td>\n",
       "      <td>...</td>\n",
       "      <td>...</td>\n",
       "      <td>...</td>\n",
       "      <td>...</td>\n",
       "      <td>...</td>\n",
       "      <td>...</td>\n",
       "      <td>...</td>\n",
       "      <td>...</td>\n",
       "      <td>...</td>\n",
       "      <td>...</td>\n",
       "      <td>...</td>\n",
       "      <td>...</td>\n",
       "    </tr>\n",
       "    <tr>\n",
       "      <th>34693</th>\n",
       "      <td>759749.0</td>\n",
       "      <td>1</td>\n",
       "      <td>design</td>\n",
       "      <td>19</td>\n",
       "      <td>199000.0</td>\n",
       "      <td>2014-02-24</td>\n",
       "      <td>2015-03-06</td>\n",
       "      <td>1</td>\n",
       "      <td>2015-03-06</td>\n",
       "      <td>375</td>\n",
       "      <td>0</td>\n",
       "      <td>0</td>\n",
       "      <td>1</td>\n",
       "      <td>0</td>\n",
       "      <td>0</td>\n",
       "      <td>0</td>\n",
       "    </tr>\n",
       "    <tr>\n",
       "      <th>34695</th>\n",
       "      <td>414232.0</td>\n",
       "      <td>6</td>\n",
       "      <td>design</td>\n",
       "      <td>22</td>\n",
       "      <td>150000.0</td>\n",
       "      <td>2014-09-29</td>\n",
       "      <td>2015-10-30</td>\n",
       "      <td>1</td>\n",
       "      <td>2015-10-30</td>\n",
       "      <td>396</td>\n",
       "      <td>0</td>\n",
       "      <td>0</td>\n",
       "      <td>1</td>\n",
       "      <td>0</td>\n",
       "      <td>0</td>\n",
       "      <td>0</td>\n",
       "    </tr>\n",
       "    <tr>\n",
       "      <th>34697</th>\n",
       "      <td>998574.0</td>\n",
       "      <td>5</td>\n",
       "      <td>marketing</td>\n",
       "      <td>6</td>\n",
       "      <td>106000.0</td>\n",
       "      <td>2013-09-23</td>\n",
       "      <td>2015-07-31</td>\n",
       "      <td>1</td>\n",
       "      <td>2015-07-31</td>\n",
       "      <td>676</td>\n",
       "      <td>0</td>\n",
       "      <td>0</td>\n",
       "      <td>0</td>\n",
       "      <td>0</td>\n",
       "      <td>1</td>\n",
       "      <td>0</td>\n",
       "    </tr>\n",
       "    <tr>\n",
       "      <th>34698</th>\n",
       "      <td>90987.0</td>\n",
       "      <td>3</td>\n",
       "      <td>customer_service</td>\n",
       "      <td>2</td>\n",
       "      <td>24000.0</td>\n",
       "      <td>2011-06-06</td>\n",
       "      <td>2013-07-11</td>\n",
       "      <td>1</td>\n",
       "      <td>2013-07-11</td>\n",
       "      <td>766</td>\n",
       "      <td>1</td>\n",
       "      <td>0</td>\n",
       "      <td>0</td>\n",
       "      <td>0</td>\n",
       "      <td>0</td>\n",
       "      <td>0</td>\n",
       "    </tr>\n",
       "    <tr>\n",
       "      <th>34701</th>\n",
       "      <td>963023.0</td>\n",
       "      <td>2</td>\n",
       "      <td>design</td>\n",
       "      <td>2</td>\n",
       "      <td>53000.0</td>\n",
       "      <td>2013-01-22</td>\n",
       "      <td>2015-01-02</td>\n",
       "      <td>1</td>\n",
       "      <td>2015-01-02</td>\n",
       "      <td>710</td>\n",
       "      <td>0</td>\n",
       "      <td>0</td>\n",
       "      <td>1</td>\n",
       "      <td>0</td>\n",
       "      <td>0</td>\n",
       "      <td>0</td>\n",
       "    </tr>\n",
       "  </tbody>\n",
       "</table>\n",
       "<p>13296 rows × 16 columns</p>\n",
       "</div>"
      ],
      "text/plain": [
       "       employee_id  company_id              dept  seniority    salary  \\\n",
       "1         388804.0           8            design         21  191000.0   \n",
       "2         407990.0           3            design          9   90000.0   \n",
       "3         120657.0           2          engineer         20  298000.0   \n",
       "6         561043.0           3  customer_service         18  119000.0   \n",
       "7         702479.0           7      data_science          7  140000.0   \n",
       "...            ...         ...               ...        ...       ...   \n",
       "34693     759749.0           1            design         19  199000.0   \n",
       "34695     414232.0           6            design         22  150000.0   \n",
       "34697     998574.0           5         marketing          6  106000.0   \n",
       "34698      90987.0           3  customer_service          2   24000.0   \n",
       "34701     963023.0           2            design          2   53000.0   \n",
       "\n",
       "       join_date  quit_date  quit quit_date2  days_at_company  \\\n",
       "1     2011-05-17 2012-03-16     1 2012-03-16              304   \n",
       "2     2012-03-26 2015-04-10     1 2015-04-10             1110   \n",
       "3     2013-04-08 2015-01-30     1 2015-01-30              662   \n",
       "6     2012-07-02 2014-03-28     1 2014-03-28              634   \n",
       "7     2011-12-27 2013-08-30     1 2013-08-30              612   \n",
       "...          ...        ...   ...        ...              ...   \n",
       "34693 2014-02-24 2015-03-06     1 2015-03-06              375   \n",
       "34695 2014-09-29 2015-10-30     1 2015-10-30              396   \n",
       "34697 2013-09-23 2015-07-31     1 2015-07-31              676   \n",
       "34698 2011-06-06 2013-07-11     1 2013-07-11              766   \n",
       "34701 2013-01-22 2015-01-02     1 2015-01-02              710   \n",
       "\n",
       "       dept_customer_service  dept_data_science  dept_design  dept_engineer  \\\n",
       "1                          0                  0            1              0   \n",
       "2                          0                  0            1              0   \n",
       "3                          0                  0            0              1   \n",
       "6                          1                  0            0              0   \n",
       "7                          0                  1            0              0   \n",
       "...                      ...                ...          ...            ...   \n",
       "34693                      0                  0            1              0   \n",
       "34695                      0                  0            1              0   \n",
       "34697                      0                  0            0              0   \n",
       "34698                      1                  0            0              0   \n",
       "34701                      0                  0            1              0   \n",
       "\n",
       "       dept_marketing  dept_sales  \n",
       "1                   0           0  \n",
       "2                   0           0  \n",
       "3                   0           0  \n",
       "6                   0           0  \n",
       "7                   0           0  \n",
       "...               ...         ...  \n",
       "34693               0           0  \n",
       "34695               0           0  \n",
       "34697               1           0  \n",
       "34698               0           0  \n",
       "34701               0           0  \n",
       "\n",
       "[13296 rows x 16 columns]"
      ]
     },
     "execution_count": 534,
     "metadata": {},
     "output_type": "execute_result"
    }
   ],
   "source": [
    "cat_vars=['company_id','dept']\n",
    "for var in cat_vars:\n",
    "    cat_list='var'+'_'+var\n",
    "    cat_list = pd.get_dummies(df[var], prefix=var)\n",
    "    df1=df.join(cat_list)\n",
    "    final=df1\n",
    "print(final)\n",
    "final.dropna()\n",
    "#final = df[['company_id','dept','seniority','salary','quit']]\n",
    "#final = pd.get_dummies(data=final, columns=['company_id', 'dept'])\n",
    "#print(final)"
   ]
  },
  {
   "cell_type": "code",
   "execution_count": 535,
   "metadata": {},
   "outputs": [
    {
     "name": "stdout",
     "output_type": "stream",
     "text": [
      "       seniority  quit  days_at_company  dept_customer_service  \\\n",
      "1             21     1              304                      0   \n",
      "2              9     1             1110                      0   \n",
      "3             20     1              662                      0   \n",
      "5             20     0              531                      0   \n",
      "6             18     1              634                      1   \n",
      "...          ...   ...              ...                    ...   \n",
      "34695         22     1              396                      0   \n",
      "34696         23     0              167                      0   \n",
      "34697          6     1              676                      0   \n",
      "34698          2     1              766                      1   \n",
      "34701          2     1              710                      0   \n",
      "\n",
      "       dept_data_science  dept_design  dept_engineer  dept_marketing  \\\n",
      "1                      0            1              0               0   \n",
      "2                      0            1              0               0   \n",
      "3                      0            0              1               0   \n",
      "5                      0            0              0               1   \n",
      "6                      0            0              0               0   \n",
      "...                  ...          ...            ...             ...   \n",
      "34695                  0            1              0               0   \n",
      "34696                  0            1              0               0   \n",
      "34697                  0            0              0               1   \n",
      "34698                  0            0              0               0   \n",
      "34701                  0            1              0               0   \n",
      "\n",
      "       dept_sales  \n",
      "1               0  \n",
      "2               0  \n",
      "3               0  \n",
      "5               0  \n",
      "6               0  \n",
      "...           ...  \n",
      "34695           0  \n",
      "34696           0  \n",
      "34697           0  \n",
      "34698           0  \n",
      "34701           0  \n",
      "\n",
      "[24619 rows x 9 columns]\n"
     ]
    }
   ],
   "source": [
    "final.drop(df.columns[[0,1,2,4,5,6,8]], axis=1, inplace=True)\n",
    "final.columns.values\n",
    "final_vars=final.columns.values.tolist()\n",
    "y=['quit']\n",
    "X=[i for i in final_vars if i not in y]\n",
    "print(final)\n",
    "\n",
    "X=final[X]\n",
    "y=final[y]"
   ]
  },
  {
   "cell_type": "code",
   "execution_count": 536,
   "metadata": {},
   "outputs": [
    {
     "name": "stderr",
     "output_type": "stream",
     "text": [
      "/Library/Frameworks/Python.framework/Versions/3.8/lib/python3.8/site-packages/sklearn/utils/validation.py:760: DataConversionWarning: A column-vector y was passed when a 1d array was expected. Please change the shape of y to (n_samples, ), for example using ravel().\n",
      "  y = column_or_1d(y, warn=True)\n"
     ]
    },
    {
     "data": {
      "text/plain": [
       "LogisticRegression(C=1.0, class_weight=None, dual=False, fit_intercept=True,\n",
       "                   intercept_scaling=1, l1_ratio=None, max_iter=100,\n",
       "                   multi_class='auto', n_jobs=None, penalty='l2',\n",
       "                   random_state=None, solver='lbfgs', tol=0.0001, verbose=0,\n",
       "                   warm_start=False)"
      ]
     },
     "execution_count": 536,
     "metadata": {},
     "output_type": "execute_result"
    }
   ],
   "source": [
    "from sklearn.model_selection import train_test_split\n",
    "X_train, X_test, y_train, y_test = train_test_split(X, y, test_size=0.3, random_state=0)\n",
    "from sklearn.linear_model import LogisticRegression\n",
    "from sklearn import metrics\n",
    "logreg = LogisticRegression()\n",
    "logreg.fit(X_train, y_train)"
   ]
  },
  {
   "cell_type": "code",
   "execution_count": 537,
   "metadata": {},
   "outputs": [
    {
     "name": "stdout",
     "output_type": "stream",
     "text": [
      "Logistic regression accuracy: 0.639\n"
     ]
    }
   ],
   "source": [
    "from sklearn.metrics import accuracy_score\n",
    "print('Logistic regression accuracy: {:.3f}'.format(accuracy_score(y_test, logreg.predict(X_test))))"
   ]
  },
  {
   "cell_type": "code",
   "execution_count": 538,
   "metadata": {},
   "outputs": [
    {
     "name": "stdout",
     "output_type": "stream",
     "text": [
      "Optimization terminated successfully.\n",
      "         Current function value: 0.680746\n",
      "         Iterations 4\n",
      "                           Results: Logit\n",
      "=====================================================================\n",
      "Model:                Logit             Pseudo R-squared:  0.013     \n",
      "Dependent Variable:   quit              AIC:               23478.5973\n",
      "Date:                 2020-07-13 00:14  BIC:               23540.6340\n",
      "No. Observations:     17233             Log-Likelihood:    -11731.   \n",
      "Df Model:             7                 LL-Null:           -11883.   \n",
      "Df Residuals:         17225             LLR p-value:       1.5868e-61\n",
      "Converged:            1.0000            Scale:             1.0000    \n",
      "No. Iterations:       4.0000                                         \n",
      "---------------------------------------------------------------------\n",
      "                       Coef.  Std.Err.    z    P>|z|   [0.025  0.975]\n",
      "---------------------------------------------------------------------\n",
      "seniority             -0.0006   0.0019 -0.3252 0.7450 -0.0044  0.0031\n",
      "days_at_company        0.0007   0.0000 16.2519 0.0000  0.0006  0.0008\n",
      "dept_customer_service -0.1877   0.0442 -4.2458 0.0000 -0.2743 -0.1011\n",
      "dept_data_science     -0.3124   0.0574 -5.4451 0.0000 -0.4249 -0.2000\n",
      "dept_design           -0.1537   0.0753 -2.0421 0.0411 -0.3013 -0.0062\n",
      "dept_engineer         -0.3958   0.0518 -7.6382 0.0000 -0.4973 -0.2942\n",
      "dept_marketing        -0.1520   0.0561 -2.7115 0.0067 -0.2619 -0.0421\n",
      "dept_sales            -0.0968   0.0556 -1.7419 0.0815 -0.2057  0.0121\n",
      "=====================================================================\n",
      "\n"
     ]
    }
   ],
   "source": [
    "logit_model=sm.Logit(y_train,X_train)\n",
    "result=logit_model.fit()\n",
    "print(result.summary2())"
   ]
  }
 ],
 "metadata": {
  "kernelspec": {
   "display_name": "Python 3",
   "language": "python",
   "name": "python3"
  },
  "language_info": {
   "codemirror_mode": {
    "name": "ipython",
    "version": 3
   },
   "file_extension": ".py",
   "mimetype": "text/x-python",
   "name": "python",
   "nbconvert_exporter": "python",
   "pygments_lexer": "ipython3",
   "version": "3.8.2"
  }
 },
 "nbformat": 4,
 "nbformat_minor": 4
}
