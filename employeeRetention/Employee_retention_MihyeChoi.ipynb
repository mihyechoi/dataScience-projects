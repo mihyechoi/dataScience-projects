{
 "cells": [
  {
   "cell_type": "markdown",
   "metadata": {},
   "source": [
    "# Improving Employee Retention \n",
    "## Insight data challenge \n",
    "## Mihye Choi "
   ]
  },
  {
   "cell_type": "markdown",
   "metadata": {},
   "source": [
    "# Executive Summary\n",
    "\n",
    "## The goal here is to predict when employees are going to quit by understanding the main drivers of employee churn.\n",
    "\n",
    "### Based on historical data from employees who have left companies, the following actions may help improve employee retention:\n",
    "\n",
    "1. Salary has a small positive effect on retention. So if budget permits, it would be optimal to pay more.\n",
    "2. The most likely time for an employee to turnover occurs between 250 days and 500 days, just around 1 year of tenure. There could be a variety of reasons behind this, from pressure of ramping up, to perverse incentive like vesting schedules. It would be worthwhile to dive deeper into this topic.\n",
    "3. Entry level employees are less likely to turnover. Mid level employees with 5-15 years of experience at significantly more likely. There is likely more opportunity in the job market for these employees so the company need to focus on the mid-levels for retention improvement efforts\n",
    "4. Customer service agents are both far more likely to turnover and have more in absolutely turnovers. This is a significant drain on company resources and HR must leverage salary or other quality of life tools to improve retention.\n",
    "\n"
   ]
  },
  {
   "cell_type": "code",
   "execution_count": 1,
   "metadata": {},
   "outputs": [],
   "source": [
    "import pandas as pd\n",
    "import numpy as np\n",
    "import matplotlib.pyplot as plt\n",
    "import seaborn as sns\n",
    "import sklearn\n",
    "import scipy\n",
    "import statsmodels.api as sm\n",
    "import datetime"
   ]
  },
  {
   "cell_type": "markdown",
   "metadata": {},
   "source": [
    "## Data Overview and Cleaning:"
   ]
  },
  {
   "cell_type": "markdown",
   "metadata": {},
   "source": [
    "Below is a sample of the data showing the available features including employee ID, company ID, department, seniority, salary, work start date (join_date), and quit date (if the employee is still working for the company, value in quit_date is missing (NaN).\n",
    "\n",
    "Inital descriptive statistics and exploratory data analysis showed (1) several data have more than 70 years of seniority and (2) different format in 'date' data. Because (1) data with > 70 year seniority are likely entry errors, and (2) the date is from '2011-01-24' (start-date) to '2015-12-13' (end-date), data ranged beyond (!) and (2) were removed. There were no other obvious outlier values in the other continuous variables.\n",
    "\n",
    "Additionally I created two new culumns (1) 'turnover' and (2) 'days at company' for the final model creation."
   ]
  },
  {
   "cell_type": "code",
   "execution_count": 2,
   "metadata": {},
   "outputs": [
    {
     "data": {
      "text/html": [
       "<div>\n",
       "<style scoped>\n",
       "    .dataframe tbody tr th:only-of-type {\n",
       "        vertical-align: middle;\n",
       "    }\n",
       "\n",
       "    .dataframe tbody tr th {\n",
       "        vertical-align: top;\n",
       "    }\n",
       "\n",
       "    .dataframe thead th {\n",
       "        text-align: right;\n",
       "    }\n",
       "</style>\n",
       "<table border=\"1\" class=\"dataframe\">\n",
       "  <thead>\n",
       "    <tr style=\"text-align: right;\">\n",
       "      <th></th>\n",
       "      <th>employee_id</th>\n",
       "      <th>company_id</th>\n",
       "      <th>dept</th>\n",
       "      <th>seniority</th>\n",
       "      <th>salary</th>\n",
       "      <th>join_date</th>\n",
       "      <th>quit_date</th>\n",
       "    </tr>\n",
       "  </thead>\n",
       "  <tbody>\n",
       "    <tr>\n",
       "      <th>25485</th>\n",
       "      <td>1003110.0</td>\n",
       "      <td>4</td>\n",
       "      <td>temp_contractor</td>\n",
       "      <td>0</td>\n",
       "      <td>5879.0</td>\n",
       "      <td>2010-07-20</td>\n",
       "      <td>2010-10-18</td>\n",
       "    </tr>\n",
       "    <tr>\n",
       "      <th>25601</th>\n",
       "      <td>1007158.0</td>\n",
       "      <td>2</td>\n",
       "      <td>temp_contractor</td>\n",
       "      <td>0</td>\n",
       "      <td>5103.0</td>\n",
       "      <td>2007-04-17</td>\n",
       "      <td>2007-07-16</td>\n",
       "    </tr>\n",
       "    <tr>\n",
       "      <th>31689</th>\n",
       "      <td>427983.0</td>\n",
       "      <td>1</td>\n",
       "      <td>customer_service</td>\n",
       "      <td>14</td>\n",
       "      <td>72000.0</td>\n",
       "      <td>2014-08-18</td>\n",
       "      <td>NaN</td>\n",
       "    </tr>\n",
       "    <tr>\n",
       "      <th>17523</th>\n",
       "      <td>640866.0</td>\n",
       "      <td>5</td>\n",
       "      <td>sales</td>\n",
       "      <td>16</td>\n",
       "      <td>199000.0</td>\n",
       "      <td>2015-10-19</td>\n",
       "      <td>NaN</td>\n",
       "    </tr>\n",
       "    <tr>\n",
       "      <th>17964</th>\n",
       "      <td>291437.0</td>\n",
       "      <td>1</td>\n",
       "      <td>data_science</td>\n",
       "      <td>28</td>\n",
       "      <td>311000.0</td>\n",
       "      <td>2014-09-22</td>\n",
       "      <td>NaN</td>\n",
       "    </tr>\n",
       "  </tbody>\n",
       "</table>\n",
       "</div>"
      ],
      "text/plain": [
       "       employee_id  company_id              dept  seniority    salary  \\\n",
       "25485    1003110.0           4   temp_contractor          0    5879.0   \n",
       "25601    1007158.0           2   temp_contractor          0    5103.0   \n",
       "31689     427983.0           1  customer_service         14   72000.0   \n",
       "17523     640866.0           5             sales         16  199000.0   \n",
       "17964     291437.0           1      data_science         28  311000.0   \n",
       "\n",
       "        join_date   quit_date  \n",
       "25485  2010-07-20  2010-10-18  \n",
       "25601  2007-04-17  2007-07-16  \n",
       "31689  2014-08-18         NaN  \n",
       "17523  2015-10-19         NaN  \n",
       "17964  2014-09-22         NaN  "
      ]
     },
     "execution_count": 2,
     "metadata": {},
     "output_type": "execute_result"
    }
   ],
   "source": [
    "df = pd.read_csv('employee_retention_data.txt', delimiter=',')\n",
    "df= df.drop(df.columns[[0]], axis=1)\n",
    "df.sample(5)"
   ]
  },
  {
   "cell_type": "code",
   "execution_count": 3,
   "metadata": {},
   "outputs": [
    {
     "name": "stdout",
     "output_type": "stream",
     "text": [
      "temp_contractor     0.288168\n",
      "customer_service    0.264538\n",
      "engineer            0.132932\n",
      "data_science        0.091926\n",
      "sales               0.091407\n",
      "marketing           0.091263\n",
      "design              0.039767\n",
      "Name: dept, dtype: float64\n"
     ]
    },
    {
     "data": {
      "text/html": [
       "<div>\n",
       "<style scoped>\n",
       "    .dataframe tbody tr th:only-of-type {\n",
       "        vertical-align: middle;\n",
       "    }\n",
       "\n",
       "    .dataframe tbody tr th {\n",
       "        vertical-align: top;\n",
       "    }\n",
       "\n",
       "    .dataframe thead th {\n",
       "        text-align: right;\n",
       "    }\n",
       "</style>\n",
       "<table border=\"1\" class=\"dataframe\">\n",
       "  <thead>\n",
       "    <tr style=\"text-align: right;\">\n",
       "      <th></th>\n",
       "      <th>employee_id</th>\n",
       "      <th>company_id</th>\n",
       "      <th>dept</th>\n",
       "      <th>seniority</th>\n",
       "      <th>salary</th>\n",
       "      <th>join_date</th>\n",
       "      <th>quit_date</th>\n",
       "    </tr>\n",
       "  </thead>\n",
       "  <tbody>\n",
       "    <tr>\n",
       "      <th>28529</th>\n",
       "      <td>442114.0</td>\n",
       "      <td>3</td>\n",
       "      <td>marketing</td>\n",
       "      <td>23</td>\n",
       "      <td>148000.0</td>\n",
       "      <td>2015-06-15</td>\n",
       "      <td>NaT</td>\n",
       "    </tr>\n",
       "    <tr>\n",
       "      <th>16661</th>\n",
       "      <td>862673.0</td>\n",
       "      <td>1</td>\n",
       "      <td>customer_service</td>\n",
       "      <td>8</td>\n",
       "      <td>85000.0</td>\n",
       "      <td>2014-03-03</td>\n",
       "      <td>NaT</td>\n",
       "    </tr>\n",
       "    <tr>\n",
       "      <th>16186</th>\n",
       "      <td>924889.0</td>\n",
       "      <td>2</td>\n",
       "      <td>marketing</td>\n",
       "      <td>19</td>\n",
       "      <td>179000.0</td>\n",
       "      <td>2015-02-09</td>\n",
       "      <td>NaT</td>\n",
       "    </tr>\n",
       "    <tr>\n",
       "      <th>32468</th>\n",
       "      <td>850065.0</td>\n",
       "      <td>1</td>\n",
       "      <td>engineer</td>\n",
       "      <td>22</td>\n",
       "      <td>270000.0</td>\n",
       "      <td>2015-08-17</td>\n",
       "      <td>NaT</td>\n",
       "    </tr>\n",
       "    <tr>\n",
       "      <th>5967</th>\n",
       "      <td>727709.0</td>\n",
       "      <td>1</td>\n",
       "      <td>data_science</td>\n",
       "      <td>23</td>\n",
       "      <td>276000.0</td>\n",
       "      <td>2011-02-07</td>\n",
       "      <td>2014-10-10</td>\n",
       "    </tr>\n",
       "    <tr>\n",
       "      <th>4844</th>\n",
       "      <td>235468.0</td>\n",
       "      <td>3</td>\n",
       "      <td>data_science</td>\n",
       "      <td>13</td>\n",
       "      <td>143000.0</td>\n",
       "      <td>2013-07-01</td>\n",
       "      <td>NaT</td>\n",
       "    </tr>\n",
       "    <tr>\n",
       "      <th>13585</th>\n",
       "      <td>759411.0</td>\n",
       "      <td>4</td>\n",
       "      <td>customer_service</td>\n",
       "      <td>20</td>\n",
       "      <td>86000.0</td>\n",
       "      <td>2014-04-28</td>\n",
       "      <td>2015-06-12</td>\n",
       "    </tr>\n",
       "    <tr>\n",
       "      <th>27320</th>\n",
       "      <td>684521.0</td>\n",
       "      <td>1</td>\n",
       "      <td>customer_service</td>\n",
       "      <td>15</td>\n",
       "      <td>114000.0</td>\n",
       "      <td>2013-10-21</td>\n",
       "      <td>2014-10-31</td>\n",
       "    </tr>\n",
       "    <tr>\n",
       "      <th>10</th>\n",
       "      <td>430126.0</td>\n",
       "      <td>2</td>\n",
       "      <td>data_science</td>\n",
       "      <td>3</td>\n",
       "      <td>77000.0</td>\n",
       "      <td>2015-08-03</td>\n",
       "      <td>NaT</td>\n",
       "    </tr>\n",
       "    <tr>\n",
       "      <th>8071</th>\n",
       "      <td>675392.0</td>\n",
       "      <td>7</td>\n",
       "      <td>engineer</td>\n",
       "      <td>24</td>\n",
       "      <td>270000.0</td>\n",
       "      <td>2014-09-09</td>\n",
       "      <td>NaT</td>\n",
       "    </tr>\n",
       "  </tbody>\n",
       "</table>\n",
       "</div>"
      ],
      "text/plain": [
       "       employee_id  company_id              dept  seniority    salary  \\\n",
       "28529     442114.0           3         marketing         23  148000.0   \n",
       "16661     862673.0           1  customer_service          8   85000.0   \n",
       "16186     924889.0           2         marketing         19  179000.0   \n",
       "32468     850065.0           1          engineer         22  270000.0   \n",
       "5967      727709.0           1      data_science         23  276000.0   \n",
       "4844      235468.0           3      data_science         13  143000.0   \n",
       "13585     759411.0           4  customer_service         20   86000.0   \n",
       "27320     684521.0           1  customer_service         15  114000.0   \n",
       "10        430126.0           2      data_science          3   77000.0   \n",
       "8071      675392.0           7          engineer         24  270000.0   \n",
       "\n",
       "       join_date  quit_date  \n",
       "28529 2015-06-15        NaT  \n",
       "16661 2014-03-03        NaT  \n",
       "16186 2015-02-09        NaT  \n",
       "32468 2015-08-17        NaT  \n",
       "5967  2011-02-07 2014-10-10  \n",
       "4844  2013-07-01        NaT  \n",
       "13585 2014-04-28 2015-06-12  \n",
       "27320 2013-10-21 2014-10-31  \n",
       "10    2015-08-03        NaT  \n",
       "8071  2014-09-09        NaT  "
      ]
     },
     "execution_count": 3,
     "metadata": {},
     "output_type": "execute_result"
    }
   ],
   "source": [
    "# Data pre-processing and cleaning \n",
    "dept_check = df.dept.value_counts()/len(df) # typo check \n",
    "print(dept_check)\n",
    "\n",
    "df = df[df.seniority < 70] # seniority value check, value over 70 is likely to be an error\n",
    "df['join_date'] = pd.to_datetime(df.join_date) # to have the consistent date format, print(df.join_date.min())\n",
    "df['quit_date'] = pd.to_datetime(df.quit_date) # print(df.quit_date.max())\n",
    "start_date = '2011-01-24'# set the right range \n",
    "end_date = '2015-12-13'# set the right range \n",
    "mask = (df['join_date'] > start_date) & (df['join_date'] <= end_date)\n",
    "df = df.loc[mask]\n",
    "df.sample(10)\n"
   ]
  },
  {
   "cell_type": "code",
   "execution_count": 4,
   "metadata": {},
   "outputs": [
    {
     "name": "stderr",
     "output_type": "stream",
     "text": [
      "<ipython-input-4-f1ff1496b65b>:3: SettingWithCopyWarning: \n",
      "A value is trying to be set on a copy of a slice from a DataFrame\n",
      "\n",
      "See the caveats in the documentation: https://pandas.pydata.org/pandas-docs/stable/user_guide/indexing.html#returning-a-view-versus-a-copy\n",
      "  df.quit[df.quit != 0] = 1\n"
     ]
    },
    {
     "data": {
      "text/html": [
       "<div>\n",
       "<style scoped>\n",
       "    .dataframe tbody tr th:only-of-type {\n",
       "        vertical-align: middle;\n",
       "    }\n",
       "\n",
       "    .dataframe tbody tr th {\n",
       "        vertical-align: top;\n",
       "    }\n",
       "\n",
       "    .dataframe thead th {\n",
       "        text-align: right;\n",
       "    }\n",
       "</style>\n",
       "<table border=\"1\" class=\"dataframe\">\n",
       "  <thead>\n",
       "    <tr style=\"text-align: right;\">\n",
       "      <th></th>\n",
       "      <th>employee_id</th>\n",
       "      <th>company_id</th>\n",
       "      <th>dept</th>\n",
       "      <th>seniority</th>\n",
       "      <th>salary</th>\n",
       "      <th>join_date</th>\n",
       "      <th>quit_date</th>\n",
       "      <th>quit</th>\n",
       "      <th>quit_date2</th>\n",
       "      <th>days_at_company</th>\n",
       "    </tr>\n",
       "  </thead>\n",
       "  <tbody>\n",
       "    <tr>\n",
       "      <th>1</th>\n",
       "      <td>388804.0</td>\n",
       "      <td>8</td>\n",
       "      <td>design</td>\n",
       "      <td>21</td>\n",
       "      <td>191000.0</td>\n",
       "      <td>2011-05-17</td>\n",
       "      <td>2012-03-16</td>\n",
       "      <td>1</td>\n",
       "      <td>2012-03-16</td>\n",
       "      <td>304</td>\n",
       "    </tr>\n",
       "    <tr>\n",
       "      <th>2</th>\n",
       "      <td>407990.0</td>\n",
       "      <td>3</td>\n",
       "      <td>design</td>\n",
       "      <td>9</td>\n",
       "      <td>90000.0</td>\n",
       "      <td>2012-03-26</td>\n",
       "      <td>2015-04-10</td>\n",
       "      <td>1</td>\n",
       "      <td>2015-04-10</td>\n",
       "      <td>1110</td>\n",
       "    </tr>\n",
       "    <tr>\n",
       "      <th>3</th>\n",
       "      <td>120657.0</td>\n",
       "      <td>2</td>\n",
       "      <td>engineer</td>\n",
       "      <td>20</td>\n",
       "      <td>298000.0</td>\n",
       "      <td>2013-04-08</td>\n",
       "      <td>2015-01-30</td>\n",
       "      <td>1</td>\n",
       "      <td>2015-01-30</td>\n",
       "      <td>662</td>\n",
       "    </tr>\n",
       "    <tr>\n",
       "      <th>5</th>\n",
       "      <td>287530.0</td>\n",
       "      <td>5</td>\n",
       "      <td>marketing</td>\n",
       "      <td>20</td>\n",
       "      <td>180000.0</td>\n",
       "      <td>2014-06-30</td>\n",
       "      <td>NaT</td>\n",
       "      <td>0</td>\n",
       "      <td>2015-12-13</td>\n",
       "      <td>531</td>\n",
       "    </tr>\n",
       "    <tr>\n",
       "      <th>6</th>\n",
       "      <td>561043.0</td>\n",
       "      <td>3</td>\n",
       "      <td>customer_service</td>\n",
       "      <td>18</td>\n",
       "      <td>119000.0</td>\n",
       "      <td>2012-07-02</td>\n",
       "      <td>2014-03-28</td>\n",
       "      <td>1</td>\n",
       "      <td>2014-03-28</td>\n",
       "      <td>634</td>\n",
       "    </tr>\n",
       "    <tr>\n",
       "      <th>...</th>\n",
       "      <td>...</td>\n",
       "      <td>...</td>\n",
       "      <td>...</td>\n",
       "      <td>...</td>\n",
       "      <td>...</td>\n",
       "      <td>...</td>\n",
       "      <td>...</td>\n",
       "      <td>...</td>\n",
       "      <td>...</td>\n",
       "      <td>...</td>\n",
       "    </tr>\n",
       "    <tr>\n",
       "      <th>34695</th>\n",
       "      <td>414232.0</td>\n",
       "      <td>6</td>\n",
       "      <td>design</td>\n",
       "      <td>22</td>\n",
       "      <td>150000.0</td>\n",
       "      <td>2014-09-29</td>\n",
       "      <td>2015-10-30</td>\n",
       "      <td>1</td>\n",
       "      <td>2015-10-30</td>\n",
       "      <td>396</td>\n",
       "    </tr>\n",
       "    <tr>\n",
       "      <th>34696</th>\n",
       "      <td>702053.0</td>\n",
       "      <td>2</td>\n",
       "      <td>design</td>\n",
       "      <td>23</td>\n",
       "      <td>192000.0</td>\n",
       "      <td>2015-06-29</td>\n",
       "      <td>NaT</td>\n",
       "      <td>0</td>\n",
       "      <td>2015-12-13</td>\n",
       "      <td>167</td>\n",
       "    </tr>\n",
       "    <tr>\n",
       "      <th>34697</th>\n",
       "      <td>998574.0</td>\n",
       "      <td>5</td>\n",
       "      <td>marketing</td>\n",
       "      <td>6</td>\n",
       "      <td>106000.0</td>\n",
       "      <td>2013-09-23</td>\n",
       "      <td>2015-07-31</td>\n",
       "      <td>1</td>\n",
       "      <td>2015-07-31</td>\n",
       "      <td>676</td>\n",
       "    </tr>\n",
       "    <tr>\n",
       "      <th>34698</th>\n",
       "      <td>90987.0</td>\n",
       "      <td>3</td>\n",
       "      <td>customer_service</td>\n",
       "      <td>2</td>\n",
       "      <td>24000.0</td>\n",
       "      <td>2011-06-06</td>\n",
       "      <td>2013-07-11</td>\n",
       "      <td>1</td>\n",
       "      <td>2013-07-11</td>\n",
       "      <td>766</td>\n",
       "    </tr>\n",
       "    <tr>\n",
       "      <th>34701</th>\n",
       "      <td>963023.0</td>\n",
       "      <td>2</td>\n",
       "      <td>design</td>\n",
       "      <td>2</td>\n",
       "      <td>53000.0</td>\n",
       "      <td>2013-01-22</td>\n",
       "      <td>2015-01-02</td>\n",
       "      <td>1</td>\n",
       "      <td>2015-01-02</td>\n",
       "      <td>710</td>\n",
       "    </tr>\n",
       "  </tbody>\n",
       "</table>\n",
       "<p>24619 rows × 10 columns</p>\n",
       "</div>"
      ],
      "text/plain": [
       "       employee_id  company_id              dept  seniority    salary  \\\n",
       "1         388804.0           8            design         21  191000.0   \n",
       "2         407990.0           3            design          9   90000.0   \n",
       "3         120657.0           2          engineer         20  298000.0   \n",
       "5         287530.0           5         marketing         20  180000.0   \n",
       "6         561043.0           3  customer_service         18  119000.0   \n",
       "...            ...         ...               ...        ...       ...   \n",
       "34695     414232.0           6            design         22  150000.0   \n",
       "34696     702053.0           2            design         23  192000.0   \n",
       "34697     998574.0           5         marketing          6  106000.0   \n",
       "34698      90987.0           3  customer_service          2   24000.0   \n",
       "34701     963023.0           2            design          2   53000.0   \n",
       "\n",
       "       join_date  quit_date  quit quit_date2  days_at_company  \n",
       "1     2011-05-17 2012-03-16     1 2012-03-16              304  \n",
       "2     2012-03-26 2015-04-10     1 2015-04-10             1110  \n",
       "3     2013-04-08 2015-01-30     1 2015-01-30              662  \n",
       "5     2014-06-30        NaT     0 2015-12-13              531  \n",
       "6     2012-07-02 2014-03-28     1 2014-03-28              634  \n",
       "...          ...        ...   ...        ...              ...  \n",
       "34695 2014-09-29 2015-10-30     1 2015-10-30              396  \n",
       "34696 2015-06-29        NaT     0 2015-12-13              167  \n",
       "34697 2013-09-23 2015-07-31     1 2015-07-31              676  \n",
       "34698 2011-06-06 2013-07-11     1 2013-07-11              766  \n",
       "34701 2013-01-22 2015-01-02     1 2015-01-02              710  \n",
       "\n",
       "[24619 rows x 10 columns]"
      ]
     },
     "execution_count": 4,
     "metadata": {},
     "output_type": "execute_result"
    }
   ],
   "source": [
    "# make new columns,  (2)  \n",
    "df['quit'] = df['quit_date'].fillna(0) # make a new column for retention,  turnover (quit =1). \n",
    "df.quit[df.quit != 0] = 1\n",
    "df['quit']= df['quit'].astype(int)\n",
    "\n",
    "df['quit_date2'] = df['quit_date'].fillna('2015-12-13') # days_at_company for calculating retention days\n",
    "df['quit_date2']=  pd.to_datetime(df.quit_date2)\n",
    "df['days_at_company'] = df['quit_date2']-df['join_date']\n",
    "df['days_at_company'] = df['days_at_company'].dt.days\n",
    "df"
   ]
  },
  {
   "cell_type": "markdown",
   "metadata": {},
   "source": [
    "# Exploratory Data Analysis (EDA)"
   ]
  },
  {
   "cell_type": "code",
   "execution_count": 5,
   "metadata": {},
   "outputs": [
    {
     "name": "stdout",
     "output_type": "stream",
     "text": [
      "         employee_id    company_id     seniority         salary          quit  \\\n",
      "count   24619.000000  24619.000000  24619.000000   24380.000000  24619.000000   \n",
      "mean   501670.191153      3.427556     14.118526  138160.746514      0.545392   \n",
      "std    288930.746415      2.700800      8.055201   76045.876338      0.497945   \n",
      "min        36.000000      1.000000      1.000000   17000.000000      0.000000   \n",
      "25%    250469.500000      1.000000      7.000000   79000.000000      0.000000   \n",
      "50%    500786.000000      2.000000     14.000000  123000.000000      1.000000   \n",
      "75%    753147.000000      5.000000     21.000000  187000.000000      1.000000   \n",
      "max    999969.000000     12.000000     29.000000  408000.000000      1.000000   \n",
      "\n",
      "       days_at_company  \n",
      "count     24619.000000  \n",
      "mean        573.721435  \n",
      "std         361.316221  \n",
      "min           3.000000  \n",
      "25%         333.000000  \n",
      "50%         424.000000  \n",
      "75%         781.000000  \n",
      "max        1777.000000  \n"
     ]
    },
    {
     "data": {
      "image/png": "[encoded data removed]",
      "text/plain": [
       "<Figure size 720x720 with 6 Axes>"
      ]
     },
     "metadata": {
      "needs_background": "light"
     },
     "output_type": "display_data"
    }
   ],
   "source": [
    "print(pd.DataFrame.describe(df))\n",
    "df.hist(figsize=(10,10))\n",
    "plt.show()"
   ]
  },
  {
   "cell_type": "code",
   "execution_count": 6,
   "metadata": {},
   "outputs": [
    {
     "name": "stdout",
     "output_type": "stream",
     "text": [
      "24619\n",
      "        employee_id  company_id  seniority         salary  days_at_company\n",
      "quit                                                                      \n",
      "0     501079.237759    3.387688  14.123392  141192.259112       527.039224\n",
      "1     502162.777016    3.460788  14.114471  135633.574007       612.633127\n",
      "1    0.545392\n",
      "0    0.454608\n",
      "Name: quit, dtype: float64\n"
     ]
    }
   ],
   "source": [
    "# the outputs show how each factor impacts the likelihood of the turnover rate.\n",
    "print(len(df.quit))\n",
    "print(df.groupby(df.quit).mean())\n",
    "print(df.quit.value_counts()/len(df))"
   ]
  },
  {
   "cell_type": "code",
   "execution_count": 7,
   "metadata": {},
   "outputs": [
    {
     "name": "stdout",
     "output_type": "stream",
     "text": [
      "company_id    1     2     3     4    5    6    7    8    9    10  11  12\n",
      "quit                                                                    \n",
      "0           3865  2016  1218   909  772  579  532  468  432  385   4  12\n",
      "1           4595  2189  1522  1141  978  709  691  573  526  479  12  12\n"
     ]
    },
    {
     "data": {
      "text/plain": [
       "Text(0.5, 0, 'Company ID')"
      ]
     },
     "execution_count": 7,
     "metadata": {},
     "output_type": "execute_result"
    },
    {
     "data": {
      "image/png": "[encoded data removed]",
      "text/plain": [
       "<Figure size 432x288 with 1 Axes>"
      ]
     },
     "metadata": {
      "needs_background": "light"
     },
     "output_type": "display_data"
    }
   ],
   "source": [
    "# turnover frequency by companies\n",
    "print(pd.crosstab(df.quit, df.company_id)) \n",
    "df[df.quit==1].company_id.plot(kind='hist', logy=True, alpha=0.3, label= 'turnover', color = \"navy\")\n",
    "df[df.quit==0].company_id.plot(kind='hist', logy=True, alpha=0.5, label= 'retention', color = \"red\")\n",
    "plt.legend(loc=1, fontsize='medium')\n",
    "plt.xlabel('Company ID')"
   ]
  },
  {
   "cell_type": "code",
   "execution_count": 8,
   "metadata": {},
   "outputs": [
    {
     "name": "stdout",
     "output_type": "stream",
     "text": [
      "dept  customer_service  data_science  design  engineer  marketing  sales\n",
      "quit                                                                    \n",
      "0                 4086          1508     602      2251       1384   1361\n",
      "1                 5061          1664     773      2348       1778   1803\n"
     ]
    },
    {
     "data": {
      "text/plain": [
       "<matplotlib.legend.Legend at 0x104832cd0>"
      ]
     },
     "execution_count": 8,
     "metadata": {},
     "output_type": "execute_result"
    },
    {
     "data": {
      "image/png": "[encoded data removed]",
      "text/plain": [
       "<Figure size 432x288 with 1 Axes>"
      ]
     },
     "metadata": {
      "needs_background": "light"
     },
     "output_type": "display_data"
    }
   ],
   "source": [
    "# turnover frequency by department. Customer Service dept has the most turnover\n",
    "print(pd.crosstab(df.quit, df.dept)) \n",
    "pd.crosstab(df.dept,df.quit).plot(kind='bar', color=['palevioletred','cornflowerblue'])\n",
    "plt.legend(title='turnover (1)')"
   ]
  },
  {
   "cell_type": "code",
   "execution_count": 9,
   "metadata": {},
   "outputs": [
    {
     "name": "stdout",
     "output_type": "stream",
     "text": [
      "days_at_company  3     4     5     6     10    11    12    13    18    19    \\\n",
      "quit                                                                          \n",
      "0                   2     4     5    78     4     3    10    86    13     7   \n",
      "1                   0     0     0     0     0     0     0     0     0     0   \n",
      "\n",
      "days_at_company  ...  1707  1714  1721  1726  1728  1742  1763  1769  1770  \\\n",
      "quit             ...                                                         \n",
      "0                ...     1     1     1     0     2     1     1     1     2   \n",
      "1                ...     0     0     0     1     0     0     0     0     0   \n",
      "\n",
      "days_at_company  1777  \n",
      "quit                   \n",
      "0                   3  \n",
      "1                   0  \n",
      "\n",
      "[2 rows x 1352 columns]\n"
     ]
    },
    {
     "data": {
      "text/plain": [
       "Text(0.5, 0, 'days')"
      ]
     },
     "execution_count": 9,
     "metadata": {},
     "output_type": "execute_result"
    },
    {
     "data": {
      "image/png": "[encoded data removed]",
      "text/plain": [
       "<Figure size 432x288 with 1 Axes>"
      ]
     },
     "metadata": {
      "needs_background": "light"
     },
     "output_type": "display_data"
    }
   ],
   "source": [
    "# turnover frequency by days at company. There is a peak (250-500 days) where turnover is highest. \n",
    "print(pd.crosstab(df.quit, df.days_at_company)) \n",
    "df[df.quit==1].days_at_company.plot(kind='hist', logy=True, alpha=0.3, label= 'turnover', color = \"navy\")\n",
    "df[df.quit==0].days_at_company.plot(kind='hist', logy=True, alpha=0.5, label= 'retention', color = \"red\")\n",
    "plt.legend(loc=1, fontsize='medium')\n",
    "plt.xlabel('days')"
   ]
  },
  {
   "cell_type": "code",
   "execution_count": 10,
   "metadata": {},
   "outputs": [
    {
     "name": "stdout",
     "output_type": "stream",
     "text": [
      "seniority   1    2    3    4    5    6    7    8    9    10  ...   20   21  \\\n",
      "quit                                                         ...             \n",
      "0          431  442  434  473  403  379  417  422  422  404  ...  375  327   \n",
      "1          426  496  446  421  529  571  510  582  519  521  ...  467  452   \n",
      "\n",
      "seniority   22   23   24   25   26   27   28   29  \n",
      "quit                                               \n",
      "0          359  355  345  312  335  300  265  318  \n",
      "1          403  428  394  399  357  342  318  306  \n",
      "\n",
      "[2 rows x 29 columns]\n"
     ]
    },
    {
     "data": {
      "text/plain": [
       "<matplotlib.legend.Legend at 0x118213e50>"
      ]
     },
     "execution_count": 10,
     "metadata": {},
     "output_type": "execute_result"
    },
    {
     "data": {
      "image/png": "[encoded data removed]",
      "text/plain": [
       "<Figure size 432x288 with 1 Axes>"
      ]
     },
     "metadata": {
      "needs_background": "light"
     },
     "output_type": "display_data"
    }
   ],
   "source": [
    "# turnover frequency by years of seniority\n",
    "print(pd.crosstab(df.quit, df.seniority)) \n",
    "pd.crosstab(df.seniority,df.quit).plot(kind='bar', color=['palevioletred','cornflowerblue'])\n",
    "plt.legend(title='turnover (1)')"
   ]
  },
  {
   "cell_type": "code",
   "execution_count": 11,
   "metadata": {},
   "outputs": [
    {
     "data": {
      "text/plain": [
       "Text(0.5, 0, 'Salary')"
      ]
     },
     "execution_count": 11,
     "metadata": {},
     "output_type": "execute_result"
    },
    {
     "data": {
      "image/png": "[encoded data removed]",
      "text/plain": [
       "<Figure size 432x288 with 1 Axes>"
      ]
     },
     "metadata": {
      "needs_background": "light"
     },
     "output_type": "display_data"
    }
   ],
   "source": [
    "# turnover frequency by salary. \n",
    "df[df.quit==1].salary.plot(kind='hist', logy=True, alpha=0.3, label= 'turnover', color = \"navy\")\n",
    "df[df.quit==0].salary.plot(kind='hist', logy=True, alpha=0.5, label= 'retention', color = \"red\")\n",
    "plt.axvline(df[df.quit==1].salary.mean(), color = 'navy', label = '')\n",
    "plt.axvline(df[df.quit==0].salary.mean(), color = 'red', label = '')\n",
    "plt.legend(loc=1, fontsize='medium')\n",
    "plt.xlabel('Salary')"
   ]
  },
  {
   "cell_type": "markdown",
   "metadata": {},
   "source": [
    "## Take Away from the EDA:\n",
    "Employees who turnovered, on average:\n",
    "\n",
    "    (1) work in customer service deaprtment\n",
    "    (2) left companies when they just around 1 year of tenure (250 - 500 days)\n",
    "    (3) mid-senior level (5-15 years of seniority) \n",
    "\n",
    "Thus, I anticipate that department, seniority, days at company will be important feautures for prediction."
   ]
  },
  {
   "cell_type": "markdown",
   "metadata": {},
   "source": [
    "## Turnover Model: comparison three models to predict exmplyee churn: \n",
    "### logistic regression vs. random forest vs. support vector machine  "
   ]
  },
  {
   "cell_type": "code",
   "execution_count": 12,
   "metadata": {},
   "outputs": [
    {
     "data": {
      "text/html": [
       "<div>\n",
       "<style scoped>\n",
       "    .dataframe tbody tr th:only-of-type {\n",
       "        vertical-align: middle;\n",
       "    }\n",
       "\n",
       "    .dataframe tbody tr th {\n",
       "        vertical-align: top;\n",
       "    }\n",
       "\n",
       "    .dataframe thead th {\n",
       "        text-align: right;\n",
       "    }\n",
       "</style>\n",
       "<table border=\"1\" class=\"dataframe\">\n",
       "  <thead>\n",
       "    <tr style=\"text-align: right;\">\n",
       "      <th></th>\n",
       "      <th>employee_id</th>\n",
       "      <th>company_id</th>\n",
       "      <th>dept</th>\n",
       "      <th>seniority</th>\n",
       "      <th>salary</th>\n",
       "      <th>join_date</th>\n",
       "      <th>quit_date</th>\n",
       "      <th>quit</th>\n",
       "      <th>quit_date2</th>\n",
       "      <th>days_at_company</th>\n",
       "      <th>dept_customer_service</th>\n",
       "      <th>dept_data_science</th>\n",
       "      <th>dept_design</th>\n",
       "      <th>dept_engineer</th>\n",
       "      <th>dept_marketing</th>\n",
       "      <th>dept_sales</th>\n",
       "    </tr>\n",
       "  </thead>\n",
       "  <tbody>\n",
       "    <tr>\n",
       "      <th>1</th>\n",
       "      <td>388804.0</td>\n",
       "      <td>8</td>\n",
       "      <td>design</td>\n",
       "      <td>21</td>\n",
       "      <td>191000.0</td>\n",
       "      <td>2011-05-17</td>\n",
       "      <td>2012-03-16</td>\n",
       "      <td>1</td>\n",
       "      <td>2012-03-16</td>\n",
       "      <td>304</td>\n",
       "      <td>0</td>\n",
       "      <td>0</td>\n",
       "      <td>1</td>\n",
       "      <td>0</td>\n",
       "      <td>0</td>\n",
       "      <td>0</td>\n",
       "    </tr>\n",
       "    <tr>\n",
       "      <th>2</th>\n",
       "      <td>407990.0</td>\n",
       "      <td>3</td>\n",
       "      <td>design</td>\n",
       "      <td>9</td>\n",
       "      <td>90000.0</td>\n",
       "      <td>2012-03-26</td>\n",
       "      <td>2015-04-10</td>\n",
       "      <td>1</td>\n",
       "      <td>2015-04-10</td>\n",
       "      <td>1110</td>\n",
       "      <td>0</td>\n",
       "      <td>0</td>\n",
       "      <td>1</td>\n",
       "      <td>0</td>\n",
       "      <td>0</td>\n",
       "      <td>0</td>\n",
       "    </tr>\n",
       "    <tr>\n",
       "      <th>3</th>\n",
       "      <td>120657.0</td>\n",
       "      <td>2</td>\n",
       "      <td>engineer</td>\n",
       "      <td>20</td>\n",
       "      <td>298000.0</td>\n",
       "      <td>2013-04-08</td>\n",
       "      <td>2015-01-30</td>\n",
       "      <td>1</td>\n",
       "      <td>2015-01-30</td>\n",
       "      <td>662</td>\n",
       "      <td>0</td>\n",
       "      <td>0</td>\n",
       "      <td>0</td>\n",
       "      <td>1</td>\n",
       "      <td>0</td>\n",
       "      <td>0</td>\n",
       "    </tr>\n",
       "    <tr>\n",
       "      <th>6</th>\n",
       "      <td>561043.0</td>\n",
       "      <td>3</td>\n",
       "      <td>customer_service</td>\n",
       "      <td>18</td>\n",
       "      <td>119000.0</td>\n",
       "      <td>2012-07-02</td>\n",
       "      <td>2014-03-28</td>\n",
       "      <td>1</td>\n",
       "      <td>2014-03-28</td>\n",
       "      <td>634</td>\n",
       "      <td>1</td>\n",
       "      <td>0</td>\n",
       "      <td>0</td>\n",
       "      <td>0</td>\n",
       "      <td>0</td>\n",
       "      <td>0</td>\n",
       "    </tr>\n",
       "    <tr>\n",
       "      <th>7</th>\n",
       "      <td>702479.0</td>\n",
       "      <td>7</td>\n",
       "      <td>data_science</td>\n",
       "      <td>7</td>\n",
       "      <td>140000.0</td>\n",
       "      <td>2011-12-27</td>\n",
       "      <td>2013-08-30</td>\n",
       "      <td>1</td>\n",
       "      <td>2013-08-30</td>\n",
       "      <td>612</td>\n",
       "      <td>0</td>\n",
       "      <td>1</td>\n",
       "      <td>0</td>\n",
       "      <td>0</td>\n",
       "      <td>0</td>\n",
       "      <td>0</td>\n",
       "    </tr>\n",
       "    <tr>\n",
       "      <th>...</th>\n",
       "      <td>...</td>\n",
       "      <td>...</td>\n",
       "      <td>...</td>\n",
       "      <td>...</td>\n",
       "      <td>...</td>\n",
       "      <td>...</td>\n",
       "      <td>...</td>\n",
       "      <td>...</td>\n",
       "      <td>...</td>\n",
       "      <td>...</td>\n",
       "      <td>...</td>\n",
       "      <td>...</td>\n",
       "      <td>...</td>\n",
       "      <td>...</td>\n",
       "      <td>...</td>\n",
       "      <td>...</td>\n",
       "    </tr>\n",
       "    <tr>\n",
       "      <th>34693</th>\n",
       "      <td>759749.0</td>\n",
       "      <td>1</td>\n",
       "      <td>design</td>\n",
       "      <td>19</td>\n",
       "      <td>199000.0</td>\n",
       "      <td>2014-02-24</td>\n",
       "      <td>2015-03-06</td>\n",
       "      <td>1</td>\n",
       "      <td>2015-03-06</td>\n",
       "      <td>375</td>\n",
       "      <td>0</td>\n",
       "      <td>0</td>\n",
       "      <td>1</td>\n",
       "      <td>0</td>\n",
       "      <td>0</td>\n",
       "      <td>0</td>\n",
       "    </tr>\n",
       "    <tr>\n",
       "      <th>34695</th>\n",
       "      <td>414232.0</td>\n",
       "      <td>6</td>\n",
       "      <td>design</td>\n",
       "      <td>22</td>\n",
       "      <td>150000.0</td>\n",
       "      <td>2014-09-29</td>\n",
       "      <td>2015-10-30</td>\n",
       "      <td>1</td>\n",
       "      <td>2015-10-30</td>\n",
       "      <td>396</td>\n",
       "      <td>0</td>\n",
       "      <td>0</td>\n",
       "      <td>1</td>\n",
       "      <td>0</td>\n",
       "      <td>0</td>\n",
       "      <td>0</td>\n",
       "    </tr>\n",
       "    <tr>\n",
       "      <th>34697</th>\n",
       "      <td>998574.0</td>\n",
       "      <td>5</td>\n",
       "      <td>marketing</td>\n",
       "      <td>6</td>\n",
       "      <td>106000.0</td>\n",
       "      <td>2013-09-23</td>\n",
       "      <td>2015-07-31</td>\n",
       "      <td>1</td>\n",
       "      <td>2015-07-31</td>\n",
       "      <td>676</td>\n",
       "      <td>0</td>\n",
       "      <td>0</td>\n",
       "      <td>0</td>\n",
       "      <td>0</td>\n",
       "      <td>1</td>\n",
       "      <td>0</td>\n",
       "    </tr>\n",
       "    <tr>\n",
       "      <th>34698</th>\n",
       "      <td>90987.0</td>\n",
       "      <td>3</td>\n",
       "      <td>customer_service</td>\n",
       "      <td>2</td>\n",
       "      <td>24000.0</td>\n",
       "      <td>2011-06-06</td>\n",
       "      <td>2013-07-11</td>\n",
       "      <td>1</td>\n",
       "      <td>2013-07-11</td>\n",
       "      <td>766</td>\n",
       "      <td>1</td>\n",
       "      <td>0</td>\n",
       "      <td>0</td>\n",
       "      <td>0</td>\n",
       "      <td>0</td>\n",
       "      <td>0</td>\n",
       "    </tr>\n",
       "    <tr>\n",
       "      <th>34701</th>\n",
       "      <td>963023.0</td>\n",
       "      <td>2</td>\n",
       "      <td>design</td>\n",
       "      <td>2</td>\n",
       "      <td>53000.0</td>\n",
       "      <td>2013-01-22</td>\n",
       "      <td>2015-01-02</td>\n",
       "      <td>1</td>\n",
       "      <td>2015-01-02</td>\n",
       "      <td>710</td>\n",
       "      <td>0</td>\n",
       "      <td>0</td>\n",
       "      <td>1</td>\n",
       "      <td>0</td>\n",
       "      <td>0</td>\n",
       "      <td>0</td>\n",
       "    </tr>\n",
       "  </tbody>\n",
       "</table>\n",
       "<p>13296 rows × 16 columns</p>\n",
       "</div>"
      ],
      "text/plain": [
       "       employee_id  company_id              dept  seniority    salary  \\\n",
       "1         388804.0           8            design         21  191000.0   \n",
       "2         407990.0           3            design          9   90000.0   \n",
       "3         120657.0           2          engineer         20  298000.0   \n",
       "6         561043.0           3  customer_service         18  119000.0   \n",
       "7         702479.0           7      data_science          7  140000.0   \n",
       "...            ...         ...               ...        ...       ...   \n",
       "34693     759749.0           1            design         19  199000.0   \n",
       "34695     414232.0           6            design         22  150000.0   \n",
       "34697     998574.0           5         marketing          6  106000.0   \n",
       "34698      90987.0           3  customer_service          2   24000.0   \n",
       "34701     963023.0           2            design          2   53000.0   \n",
       "\n",
       "       join_date  quit_date  quit quit_date2  days_at_company  \\\n",
       "1     2011-05-17 2012-03-16     1 2012-03-16              304   \n",
       "2     2012-03-26 2015-04-10     1 2015-04-10             1110   \n",
       "3     2013-04-08 2015-01-30     1 2015-01-30              662   \n",
       "6     2012-07-02 2014-03-28     1 2014-03-28              634   \n",
       "7     2011-12-27 2013-08-30     1 2013-08-30              612   \n",
       "...          ...        ...   ...        ...              ...   \n",
       "34693 2014-02-24 2015-03-06     1 2015-03-06              375   \n",
       "34695 2014-09-29 2015-10-30     1 2015-10-30              396   \n",
       "34697 2013-09-23 2015-07-31     1 2015-07-31              676   \n",
       "34698 2011-06-06 2013-07-11     1 2013-07-11              766   \n",
       "34701 2013-01-22 2015-01-02     1 2015-01-02              710   \n",
       "\n",
       "       dept_customer_service  dept_data_science  dept_design  dept_engineer  \\\n",
       "1                          0                  0            1              0   \n",
       "2                          0                  0            1              0   \n",
       "3                          0                  0            0              1   \n",
       "6                          1                  0            0              0   \n",
       "7                          0                  1            0              0   \n",
       "...                      ...                ...          ...            ...   \n",
       "34693                      0                  0            1              0   \n",
       "34695                      0                  0            1              0   \n",
       "34697                      0                  0            0              0   \n",
       "34698                      1                  0            0              0   \n",
       "34701                      0                  0            1              0   \n",
       "\n",
       "       dept_marketing  dept_sales  \n",
       "1                   0           0  \n",
       "2                   0           0  \n",
       "3                   0           0  \n",
       "6                   0           0  \n",
       "7                   0           0  \n",
       "...               ...         ...  \n",
       "34693               0           0  \n",
       "34695               0           0  \n",
       "34697               1           0  \n",
       "34698               0           0  \n",
       "34701               0           0  \n",
       "\n",
       "[13296 rows x 16 columns]"
      ]
     },
     "execution_count": 12,
     "metadata": {},
     "output_type": "execute_result"
    }
   ],
   "source": [
    "cat_vars=['company_id','dept']\n",
    "for var in cat_vars:\n",
    "    cat_list='var'+'_'+var\n",
    "    cat_list = pd.get_dummies(df[var], prefix=var)\n",
    "    df1=df.join(cat_list)\n",
    "    final=df1\n",
    "#print(final)\n",
    "final.dropna()\n",
    "#final = df[['company_id','dept','seniority','salary','quit']]\n",
    "#final = pd.get_dummies(data=final, columns=['company_id', 'dept'])\n",
    "#print(final)"
   ]
  },
  {
   "cell_type": "code",
   "execution_count": 13,
   "metadata": {},
   "outputs": [],
   "source": [
    "final.drop(df.columns[[0,1,2,4,5,6,8]], axis=1, inplace=True)\n",
    "final.columns.values\n",
    "final_vars=final.columns.values.tolist()\n",
    "y=['quit']\n",
    "X=[i for i in final_vars if i not in y]\n",
    "#print(final)\n",
    "\n",
    "X=final[X]\n",
    "y=final[y]"
   ]
  },
  {
   "cell_type": "markdown",
   "metadata": {},
   "source": [
    "#### 1. Logistic Regression model"
   ]
  },
  {
   "cell_type": "code",
   "execution_count": 16,
   "metadata": {},
   "outputs": [
    {
     "name": "stderr",
     "output_type": "stream",
     "text": [
      "/Library/Frameworks/Python.framework/Versions/3.8/lib/python3.8/site-packages/sklearn/utils/validation.py:760: DataConversionWarning: A column-vector y was passed when a 1d array was expected. Please change the shape of y to (n_samples, ), for example using ravel().\n",
      "  y = column_or_1d(y, warn=True)\n"
     ]
    },
    {
     "data": {
      "text/plain": [
       "LogisticRegression(C=1.0, class_weight=None, dual=False, fit_intercept=True,\n",
       "                   intercept_scaling=1, l1_ratio=None, max_iter=100,\n",
       "                   multi_class='auto', n_jobs=None, penalty='l2',\n",
       "                   random_state=None, solver='lbfgs', tol=0.0001, verbose=0,\n",
       "                   warm_start=False)"
      ]
     },
     "execution_count": 16,
     "metadata": {},
     "output_type": "execute_result"
    }
   ],
   "source": [
    "from sklearn.model_selection import train_test_split\n",
    "X_train, X_test, y_train, y_test = train_test_split(X, y, test_size=0.3, random_state=0)\n",
    "from sklearn.linear_model import LogisticRegression\n",
    "from sklearn import metrics\n",
    "logreg = LogisticRegression()\n",
    "logreg.fit(X_train, y_train)"
   ]
  },
  {
   "cell_type": "code",
   "execution_count": 17,
   "metadata": {},
   "outputs": [
    {
     "name": "stdout",
     "output_type": "stream",
     "text": [
      "Logistic regression accuracy: 0.639\n"
     ]
    }
   ],
   "source": [
    "from sklearn.metrics import accuracy_score\n",
    "print('Logistic regression accuracy: {:.3f}'.format(accuracy_score(y_test, logreg.predict(X_test))))"
   ]
  },
  {
   "cell_type": "code",
   "execution_count": 22,
   "metadata": {},
   "outputs": [],
   "source": [
    "#logit_model=sm.Logit(y_train,X_train)\n",
    "#result=logit_model.fit()\n",
    "#print(result.summary2())"
   ]
  },
  {
   "cell_type": "code",
   "execution_count": 24,
   "metadata": {},
   "outputs": [
    {
     "name": "stdout",
     "output_type": "stream",
     "text": [
      "              precision    recall  f1-score   support\n",
      "\n",
      "           0       0.67      0.38      0.48      3308\n",
      "           1       0.63      0.85      0.72      4078\n",
      "\n",
      "    accuracy                           0.64      7386\n",
      "   macro avg       0.65      0.61      0.60      7386\n",
      "weighted avg       0.65      0.64      0.62      7386\n",
      "\n"
     ]
    }
   ],
   "source": [
    "from sklearn.metrics import classification_report\n",
    "print(classification_report(y_test, logreg.predict(X_test)))"
   ]
  },
  {
   "cell_type": "markdown",
   "metadata": {},
   "source": [
    "#### 2. Random Forest model"
   ]
  },
  {
   "cell_type": "code",
   "execution_count": 18,
   "metadata": {},
   "outputs": [
    {
     "name": "stderr",
     "output_type": "stream",
     "text": [
      "<ipython-input-18-2ae5f042fe42>:3: DataConversionWarning: A column-vector y was passed when a 1d array was expected. Please change the shape of y to (n_samples,), for example using ravel().\n",
      "  rf.fit(X_train, y_train)\n"
     ]
    },
    {
     "data": {
      "text/plain": [
       "RandomForestClassifier(bootstrap=True, ccp_alpha=0.0, class_weight=None,\n",
       "                       criterion='gini', max_depth=None, max_features='auto',\n",
       "                       max_leaf_nodes=None, max_samples=None,\n",
       "                       min_impurity_decrease=0.0, min_impurity_split=None,\n",
       "                       min_samples_leaf=1, min_samples_split=2,\n",
       "                       min_weight_fraction_leaf=0.0, n_estimators=100,\n",
       "                       n_jobs=None, oob_score=False, random_state=None,\n",
       "                       verbose=0, warm_start=False)"
      ]
     },
     "execution_count": 18,
     "metadata": {},
     "output_type": "execute_result"
    }
   ],
   "source": [
    "from sklearn.ensemble import RandomForestClassifier\n",
    "rf = RandomForestClassifier()\n",
    "rf.fit(X_train, y_train)"
   ]
  },
  {
   "cell_type": "code",
   "execution_count": 19,
   "metadata": {},
   "outputs": [
    {
     "name": "stdout",
     "output_type": "stream",
     "text": [
      "Random Forest Accuracy: 0.732\n"
     ]
    }
   ],
   "source": [
    "print('Random Forest Accuracy: {:.3f}'.format(accuracy_score(y_test, rf.predict(X_test))))"
   ]
  },
  {
   "cell_type": "code",
   "execution_count": 23,
   "metadata": {},
   "outputs": [
    {
     "name": "stdout",
     "output_type": "stream",
     "text": [
      "              precision    recall  f1-score   support\n",
      "\n",
      "           0       0.71      0.68      0.69      3308\n",
      "           1       0.75      0.78      0.76      4078\n",
      "\n",
      "    accuracy                           0.73      7386\n",
      "   macro avg       0.73      0.73      0.73      7386\n",
      "weighted avg       0.73      0.73      0.73      7386\n",
      "\n"
     ]
    }
   ],
   "source": [
    "from sklearn.metrics import classification_report\n",
    "print(classification_report(y_test, rf.predict(X_test)))"
   ]
  },
  {
   "cell_type": "markdown",
   "metadata": {},
   "source": [
    "#### 3. Support Vector model"
   ]
  },
  {
   "cell_type": "code",
   "execution_count": 28,
   "metadata": {},
   "outputs": [
    {
     "name": "stderr",
     "output_type": "stream",
     "text": [
      "/Library/Frameworks/Python.framework/Versions/3.8/lib/python3.8/site-packages/sklearn/utils/validation.py:760: DataConversionWarning: A column-vector y was passed when a 1d array was expected. Please change the shape of y to (n_samples, ), for example using ravel().\n",
      "  y = column_or_1d(y, warn=True)\n"
     ]
    },
    {
     "data": {
      "text/plain": [
       "SVC(C=1.0, break_ties=False, cache_size=200, class_weight=None, coef0=0.0,\n",
       "    decision_function_shape='ovr', degree=3, gamma='scale', kernel='rbf',\n",
       "    max_iter=-1, probability=True, random_state=None, shrinking=True, tol=0.001,\n",
       "    verbose=False)"
      ]
     },
     "execution_count": 28,
     "metadata": {},
     "output_type": "execute_result"
    }
   ],
   "source": [
    "from sklearn.svm import SVC\n",
    "svc = SVC(probability=True)\n",
    "svc.fit(X_train, y_train)"
   ]
  },
  {
   "cell_type": "code",
   "execution_count": 29,
   "metadata": {},
   "outputs": [
    {
     "name": "stdout",
     "output_type": "stream",
     "text": [
      "Support vector machine accuracy: 0.688\n"
     ]
    }
   ],
   "source": [
    "print('Support vector machine accuracy: {:.3f}'.format(accuracy_score(y_test, svc.predict(X_test))))"
   ]
  },
  {
   "cell_type": "code",
   "execution_count": 30,
   "metadata": {},
   "outputs": [
    {
     "name": "stdout",
     "output_type": "stream",
     "text": [
      "              precision    recall  f1-score   support\n",
      "\n",
      "           0       0.98      0.31      0.47      3308\n",
      "           1       0.64      1.00      0.78      4078\n",
      "\n",
      "    accuracy                           0.69      7386\n",
      "   macro avg       0.81      0.65      0.62      7386\n",
      "weighted avg       0.79      0.69      0.64      7386\n",
      "\n"
     ]
    }
   ],
   "source": [
    "from sklearn.metrics import classification_report\n",
    "print(classification_report(y_test, svc.predict(X_test)))"
   ]
  },
  {
   "cell_type": "code",
   "execution_count": 32,
   "metadata": {},
   "outputs": [
    {
     "data": {
      "image/png": "[encoded data removed]",
      "text/plain": [
       "<Figure size 432x288 with 1 Axes>"
      ]
     },
     "metadata": {
      "needs_background": "light"
     },
     "output_type": "display_data"
    }
   ],
   "source": [
    "from sklearn.metrics import roc_auc_score\n",
    "from sklearn.metrics import roc_curve\n",
    "\n",
    "logit_roc_auc = roc_auc_score(y_test, logreg.predict(X_test))\n",
    "fpr, tpr, thresholds = roc_curve(y_test, logreg.predict_proba(X_test)[:,1])\n",
    "\n",
    "rf_roc_auc = roc_auc_score(y_test, rf.predict(X_test))\n",
    "rf_fpr, rf_tpr, rf_thresholds = roc_curve(y_test, rf.predict_proba(X_test)[:,1])\n",
    "\n",
    "svc_roc_auc = roc_auc_score(y_test, svc.predict(X_test))\n",
    "svc_fpr, svc_tpr, svc_thresholds = roc_curve(y_test, svc.predict_proba(X_test)[:,1])\n",
    "\n",
    "plt.figure()\n",
    "plt.plot(fpr, tpr, label='Logistic Regression (area = %0.2f)' % logit_roc_auc)\n",
    "plt.plot(rf_fpr, rf_tpr, label='Random Forest (area = %0.2f)' % rf_roc_auc)\n",
    "plt.plot(svc_fpr, svc_tpr, label='Support Vector (area = %0.2f)' % svc_roc_auc)\n",
    "plt.plot([0, 1], [0, 1],'r--')\n",
    "plt.xlim([0.0, 1.0])\n",
    "plt.ylim([0.0, 1.05])\n",
    "plt.xlabel('False Positive Rate')\n",
    "plt.ylabel('True Positive Rate')\n",
    "plt.title('Receiver operating characteristic')\n",
    "plt.legend(loc=\"lower right\")\n",
    "plt.savefig('ROC')\n",
    "plt.show()"
   ]
  },
  {
   "attachments": {},
   "cell_type": "markdown",
   "metadata": {},
   "source": [
    "#### Summary \n",
    "\n",
    "As shown above, random forest seems to be the best model among the three in that it predicts both classes equally well while logistic regression and support vector are overpredicting one class (e.g.,  recall and f-1 scores in the two models). Also, ROC curve shows that random forest, without having to overpredict false postivie, can predict true positive relativly well. (When true postivie rate is high and false postive rate (error) is low, the area of under curve is larger. Thus, the larger area of under roc curve is, the better a model performance because larger area indicates less error, and more correct responses).\n",
    "\n",
    "Survival analysis can be consider as another possible model. It considers both events and time and estimates the impact of covariates on time in the survival data. It is often used for predicting such as death in biological organisms or failure in machines. Given that predicting employee churn  is also basically to analyze the expected duration of time before an event happen (e.g., turnover), it can be also applied for this case. "
   ]
  }
 ],
 "metadata": {
  "kernelspec": {
   "display_name": "Python 3",
   "language": "python",
   "name": "python3"
  },
  "language_info": {
   "codemirror_mode": {
    "name": "ipython",
    "version": 3
   },
   "file_extension": ".py",
   "mimetype": "text/x-python",
   "name": "python",
   "nbconvert_exporter": "python",
   "pygments_lexer": "ipython3",
   "version": "3.8.2"
  }
 },
 "nbformat": 4,
 "nbformat_minor": 4
}
